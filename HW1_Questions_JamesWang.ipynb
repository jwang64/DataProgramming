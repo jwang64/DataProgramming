{
 "cells": [
  {
   "cell_type": "markdown",
   "metadata": {},
   "source": [
    "## To Students:\n",
    "\n",
    "The deadline of homework 1 is extended to Sep 6th 11:59PM, so that we have time to cover all the topics in next week's class.\n",
    "\n",
    "The class will be divided into 6 groups and each group will be assigned to a TA by the end of the 1st week. You will receive your TA's email address and please turn in your homework (in Jupyter Notebook format) to your TA's email before deadline. \n",
    "\n",
    "Have fun coding. :-)"
   ]
  },
  {
   "cell_type": "code",
   "execution_count": 63,
   "metadata": {},
   "outputs": [],
   "source": [
    "import math\n",
    "import pandas as pd"
   ]
  },
  {
   "cell_type": "markdown",
   "metadata": {},
   "source": [
    "## QUESTIONS\n",
    "\n",
    "1. Write a fuction called 'fac' that takes an input of number N and output N!.Print the result as N! is result.\n",
    "For example, N = 5, N! = 5 * 4 * 3 * 2 * 1 = 120. Print '5! is 120'"
   ]
  },
  {
   "cell_type": "code",
   "execution_count": 6,
   "metadata": {},
   "outputs": [],
   "source": [
    "def fac(N):\n",
    "    multiplyingNumber = 1\n",
    "    while N>0:\n",
    "        multiplyingNumber = N * multiplyingNumber\n",
    "        N = N-1\n",
    "    return(multiplyingNumber)"
   ]
  },
  {
   "cell_type": "code",
   "execution_count": 62,
   "metadata": {},
   "outputs": [
    {
     "name": "stdout",
     "output_type": "stream",
     "text": [
      "720\n"
     ]
    }
   ],
   "source": [
    "print(fac(6))"
   ]
  },
  {
   "cell_type": "markdown",
   "metadata": {},
   "source": [
    "2. Make a plot for y = log(x), x is between 1 and 100."
   ]
  },
  {
   "cell_type": "code",
   "execution_count": 64,
   "metadata": {},
   "outputs": [],
   "source": [
    "logDataFrame = pd.DataFrame(columns=['x','logX'])"
   ]
  },
  {
   "cell_type": "code",
   "execution_count": 68,
   "metadata": {},
   "outputs": [],
   "source": [
    "logDataFrame['x'] = range(1,101)"
   ]
  },
  {
   "cell_type": "code",
   "execution_count": 74,
   "metadata": {},
   "outputs": [],
   "source": [
    "logDataFrame['logX'] = logDataFrame.apply(lambda x: math.log10(x['x']), axis=1)"
   ]
  },
  {
   "cell_type": "code",
   "execution_count": 77,
   "metadata": {},
   "outputs": [
    {
     "data": {
      "text/plain": [
       "<matplotlib.axes._subplots.AxesSubplot at 0x236de9e9070>"
      ]
     },
     "execution_count": 77,
     "metadata": {},
     "output_type": "execute_result"
    },
    {
     "data": {
      "image/png": "[encoded data removed]",
      "text/plain": [
       "<Figure size 432x288 with 1 Axes>"
      ]
     },
     "metadata": {
      "needs_background": "light"
     },
     "output_type": "display_data"
    }
   ],
   "source": [
    "logDataFrame.plot(x = 'x', y='logX', kind='line')"
   ]
  },
  {
   "cell_type": "markdown",
   "metadata": {},
   "source": [
    "3. Write a function called \"operate\" that takes as input two numbers, and a string that can be either \"add\" or \"multiply\". The output should be either the sum or product of the two numbers, depending on the string entered."
   ]
  },
  {
   "cell_type": "code",
   "execution_count": 8,
   "metadata": {},
   "outputs": [],
   "source": [
    "def operate(firstNumber, secondNumber, operation):\n",
    "    if(operation == 'add'):\n",
    "        return(firstNumber + secondNumber)\n",
    "    if(operation =='multiply'):\n",
    "        return(firstNumber * secondNumber)\n",
    "    else:\n",
    "        return(\"Invalid\")"
   ]
  },
  {
   "cell_type": "code",
   "execution_count": 9,
   "metadata": {},
   "outputs": [
    {
     "name": "stdout",
     "output_type": "stream",
     "text": [
      "15\n"
     ]
    }
   ],
   "source": [
    "print(operate(5,10,'add'))"
   ]
  },
  {
   "cell_type": "code",
   "execution_count": 10,
   "metadata": {},
   "outputs": [
    {
     "name": "stdout",
     "output_type": "stream",
     "text": [
      "200\n"
     ]
    }
   ],
   "source": [
    "print(operate(10,20,'multiply'))"
   ]
  },
  {
   "cell_type": "code",
   "execution_count": 11,
   "metadata": {},
   "outputs": [
    {
     "name": "stdout",
     "output_type": "stream",
     "text": [
      "Invalid\n"
     ]
    }
   ],
   "source": [
    "print(operate(30,10,'subtract'))"
   ]
  },
  {
   "cell_type": "markdown",
   "metadata": {},
   "source": [
    "###### 4. Write a function called \"describe\" that takes as input a list of numbers, and prints the number of elements in the list, and the mean, variance, and standard deviation. The printed quantities should be labeled. The output should look something like:  number of elements: 12  mean: 0.5  variance: 0.04  standard deviation: 0.2"
   ]
  },
  {
   "cell_type": "code",
   "execution_count": 17,
   "metadata": {},
   "outputs": [],
   "source": [
    "def calculateMean(list):\n",
    "    summation = 0\n",
    "    mean = 0\n",
    "    for i in list:\n",
    "        summation = summation+ i\n",
    "    mean = summation / calculateLength(list)\n",
    "    return mean"
   ]
  },
  {
   "cell_type": "code",
   "execution_count": 24,
   "metadata": {},
   "outputs": [],
   "source": [
    "def calculateVariance(list):\n",
    "    mean = calculateMean(list)\n",
    "    summation = 0\n",
    "    for i in list:\n",
    "        differenceBetweenMean = i - mean\n",
    "        summation = summation + (differenceBetweenMean * differenceBetweenMean)\n",
    "    variance = summation / calculateLength(list)\n",
    "    return variance"
   ]
  },
  {
   "cell_type": "code",
   "execution_count": 25,
   "metadata": {},
   "outputs": [],
   "source": [
    "def calculateLength(list):\n",
    "    return len(list)"
   ]
  },
  {
   "cell_type": "code",
   "execution_count": 28,
   "metadata": {},
   "outputs": [],
   "source": [
    "def calculateStandardDeviation(list):\n",
    "    variance = calculateVariance(list)\n",
    "    standardDeviation = math.sqrt(variance)\n",
    "    return standardDeviation"
   ]
  },
  {
   "cell_type": "code",
   "execution_count": 39,
   "metadata": {},
   "outputs": [],
   "source": [
    "def describe(list):\n",
    "    print(\"Number of Elements in List: \" + str(calculateLength(list)))\n",
    "    print(\"\\nMean of List: \" + str(calculateMean(list)))\n",
    "    print(\"\\nVariance of List: \" + str(calculateVariance(list)))\n",
    "    print(\"\\nStandard Deviation of List: \" + str(calculateStandardDeviation(list)))"
   ]
  },
  {
   "cell_type": "code",
   "execution_count": 40,
   "metadata": {},
   "outputs": [],
   "source": [
    "list = [1,2,3,4,5,6]"
   ]
  },
  {
   "cell_type": "code",
   "execution_count": 41,
   "metadata": {},
   "outputs": [
    {
     "name": "stdout",
     "output_type": "stream",
     "text": [
      "Number of Elements in List: 6\n",
      "\n",
      "Mean of List: 3.5\n",
      "\n",
      "Variance of List: 2.9166666666666665\n",
      "\n",
      "Standard Deviation of List: 1.707825127659933\n"
     ]
    }
   ],
   "source": [
    "describe(list)"
   ]
  },
  {
   "cell_type": "markdown",
   "metadata": {},
   "source": [
    "5. A simple substitution code codes 'a' as 1, 'b' as 2, ..., 'z' as 26. Write a function called \"encode\" that takes in a string, and prints the coded text. The output should be a string, with letters separated by \".\". Use \"999\" for punctuation and spaces. For example, encode(\"Hello!\") should print out \"8.5.12.12.15.999\"."
   ]
  },
  {
   "cell_type": "code",
   "execution_count": 46,
   "metadata": {},
   "outputs": [],
   "source": [
    "alphabetDictionary = {\"a\":1,\"b\":2,\"c\":3,\"d\":4,\n",
    "                      \"e\":5,\"f\":6,\"g\":7,\"h\":8,\n",
    "                      \"i\":9,\"j\":10,\"k\":11,\"l\":12,\n",
    "                      \"m\":13,\"n\":14,\"o\":15,\"p\":16,\n",
    "                      \"q\":17,\"r\":18,\"s\":19,\"t\":20,\n",
    "                      \"u\":21,\"v\":22,\"w\":23,\"x\":24,\n",
    "                      \"y\":25,\"z\":26}"
   ]
  },
  {
   "cell_type": "code",
   "execution_count": 59,
   "metadata": {},
   "outputs": [],
   "source": [
    "def encode(string):\n",
    "    encodedString = \"\"\n",
    "    stringLength = len(string)\n",
    "    stringCounter = 0\n",
    "    for s in string:\n",
    "        s = s.lower()\n",
    "        if s in alphabetDictionary:\n",
    "            encodedString += str(alphabetDictionary[s])\n",
    "        else:\n",
    "            encodedString += \"999\"\n",
    "        if stringCounter < stringLength:\n",
    "            encodedString += \".\"\n",
    "            stringCounter += 1\n",
    "    return encodedString"
   ]
  },
  {
   "cell_type": "code",
   "execution_count": 61,
   "metadata": {},
   "outputs": [
    {
     "data": {
      "text/plain": [
       "'9.999.8.15.16.5.999.13.25.999.20.1.999.23.9.12.12.999.7.9.22.5.999.13.5.999.1.999.7.15.15.4.999.7.18.1.4.5.999.'"
      ]
     },
     "execution_count": 61,
     "metadata": {},
     "output_type": "execute_result"
    }
   ],
   "source": [
    "encode(\"I hope my TA will give me a good grade!\")"
   ]
  }
 ],
 "metadata": {
  "kernelspec": {
   "display_name": "Python 3",
   "language": "python",
   "name": "python3"
  },
  "language_info": {
   "codemirror_mode": {
    "name": "ipython",
    "version": 3
   },
   "file_extension": ".py",
   "mimetype": "text/x-python",
   "name": "python",
   "nbconvert_exporter": "python",
   "pygments_lexer": "ipython3",
   "version": "3.8.3"
  }
 },
 "nbformat": 4,
 "nbformat_minor": 4
}
