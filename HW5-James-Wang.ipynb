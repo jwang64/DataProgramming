{
 "cells": [
  {
   "cell_type": "markdown",
   "metadata": {},
   "source": [
    "## Homework 5\n",
    "\n",
    "In this week's class, we went through the Recsys Chanllege 2015: \\\n",
    "https://2015.recsyschallenge.com/challenge.html\\\n",
    "For this homework, we will work on task 1. So, when you create features, you will need to think on the session level but not item level.\n",
    "\n",
    "The click and buy datasets are unploaded to iCollege. These 2 files are sampled down to ~50k buy and ~50k not buy sessions to simplify your homework.\n",
    "\n",
    "In this homework, please do feature engineering to create new features from the click and buy datasets. You can use the ideas I provided in the class but I encourage you to be creative and think on your own as well. \n",
    "\n",
    "Each feautre you creat will worth 10 points and the maximal points from feature engineerring will cap at 80 points. But do not limit yourself to 8 features because the more features you can create, the better they will help you in your next homework(6) for Machine Learning modeling.\n",
    "\n",
    "In the end, you will need to create the Analytics Base Table(ABT) which worth 20 points. In the ABT, you should have each row representing a unique click session but not each session with each item. This is different from my code on github because we are only doing task 1 for this homework."
   ]
  },
  {
   "cell_type": "code",
   "execution_count": 1,
   "metadata": {},
   "outputs": [],
   "source": [
    "# loading data\n",
    "import pandas as pd\n",
    "\n",
    "click = pd.read_csv('click_sep.csv', low_memory=False)\n",
    "\n",
    "buy = pd.read_csv('buy_sep.csv',low_memory=False)"
   ]
  },
  {
   "cell_type": "code",
   "execution_count": 2,
   "metadata": {},
   "outputs": [
    {
     "data": {
      "text/html": [
       "<div>\n",
       "<style scoped>\n",
       "    .dataframe tbody tr th:only-of-type {\n",
       "        vertical-align: middle;\n",
       "    }\n",
       "\n",
       "    .dataframe tbody tr th {\n",
       "        vertical-align: top;\n",
       "    }\n",
       "\n",
       "    .dataframe thead th {\n",
       "        text-align: right;\n",
       "    }\n",
       "</style>\n",
       "<table border=\"1\" class=\"dataframe\">\n",
       "  <thead>\n",
       "    <tr style=\"text-align: right;\">\n",
       "      <th></th>\n",
       "      <th>SessionID</th>\n",
       "      <th>TimeStamp</th>\n",
       "      <th>ItemID</th>\n",
       "      <th>Category</th>\n",
       "    </tr>\n",
       "  </thead>\n",
       "  <tbody>\n",
       "    <tr>\n",
       "      <th>0</th>\n",
       "      <td>9293568</td>\n",
       "      <td>2014-09-01 18:07:00.855000+00:00</td>\n",
       "      <td>214853225</td>\n",
       "      <td>S</td>\n",
       "    </tr>\n",
       "    <tr>\n",
       "      <th>1</th>\n",
       "      <td>9293653</td>\n",
       "      <td>2014-09-01 10:38:47.087000+00:00</td>\n",
       "      <td>214834871</td>\n",
       "      <td>S</td>\n",
       "    </tr>\n",
       "    <tr>\n",
       "      <th>2</th>\n",
       "      <td>9293653</td>\n",
       "      <td>2014-09-01 10:39:49.115000+00:00</td>\n",
       "      <td>214849327</td>\n",
       "      <td>S</td>\n",
       "    </tr>\n",
       "    <tr>\n",
       "      <th>3</th>\n",
       "      <td>9293653</td>\n",
       "      <td>2014-09-01 10:40:31.736000+00:00</td>\n",
       "      <td>214828970</td>\n",
       "      <td>S</td>\n",
       "    </tr>\n",
       "    <tr>\n",
       "      <th>4</th>\n",
       "      <td>9293653</td>\n",
       "      <td>2014-09-01 10:41:01.640000+00:00</td>\n",
       "      <td>214849327</td>\n",
       "      <td>S</td>\n",
       "    </tr>\n",
       "  </tbody>\n",
       "</table>\n",
       "</div>"
      ],
      "text/plain": [
       "   SessionID                         TimeStamp     ItemID Category\n",
       "0    9293568  2014-09-01 18:07:00.855000+00:00  214853225        S\n",
       "1    9293653  2014-09-01 10:38:47.087000+00:00  214834871        S\n",
       "2    9293653  2014-09-01 10:39:49.115000+00:00  214849327        S\n",
       "3    9293653  2014-09-01 10:40:31.736000+00:00  214828970        S\n",
       "4    9293653  2014-09-01 10:41:01.640000+00:00  214849327        S"
      ]
     },
     "execution_count": 2,
     "metadata": {},
     "output_type": "execute_result"
    }
   ],
   "source": [
    "click.head()"
   ]
  },
  {
   "cell_type": "code",
   "execution_count": 3,
   "metadata": {},
   "outputs": [
    {
     "name": "stdout",
     "output_type": "stream",
     "text": [
      "unique click session\n",
      "99998\n"
     ]
    }
   ],
   "source": [
    "print('unique click session')\n",
    "print(len(click.SessionID.unique()))"
   ]
  },
  {
   "cell_type": "code",
   "execution_count": 4,
   "metadata": {},
   "outputs": [
    {
     "data": {
      "text/html": [
       "<div>\n",
       "<style scoped>\n",
       "    .dataframe tbody tr th:only-of-type {\n",
       "        vertical-align: middle;\n",
       "    }\n",
       "\n",
       "    .dataframe tbody tr th {\n",
       "        vertical-align: top;\n",
       "    }\n",
       "\n",
       "    .dataframe thead th {\n",
       "        text-align: right;\n",
       "    }\n",
       "</style>\n",
       "<table border=\"1\" class=\"dataframe\">\n",
       "  <thead>\n",
       "    <tr style=\"text-align: right;\">\n",
       "      <th></th>\n",
       "      <th>SessionID</th>\n",
       "      <th>TimeStamp</th>\n",
       "      <th>ItemID</th>\n",
       "      <th>Price</th>\n",
       "      <th>Quantity</th>\n",
       "    </tr>\n",
       "  </thead>\n",
       "  <tbody>\n",
       "    <tr>\n",
       "      <th>0</th>\n",
       "      <td>9641594</td>\n",
       "      <td>2014-09-01 09:09:25.575000+00:00</td>\n",
       "      <td>214853342</td>\n",
       "      <td>2093</td>\n",
       "      <td>2</td>\n",
       "    </tr>\n",
       "    <tr>\n",
       "      <th>1</th>\n",
       "      <td>9641594</td>\n",
       "      <td>2014-09-01 09:09:25.596000+00:00</td>\n",
       "      <td>214853340</td>\n",
       "      <td>837</td>\n",
       "      <td>2</td>\n",
       "    </tr>\n",
       "    <tr>\n",
       "      <th>2</th>\n",
       "      <td>9641594</td>\n",
       "      <td>2014-09-01 09:09:25.614000+00:00</td>\n",
       "      <td>214853420</td>\n",
       "      <td>1046</td>\n",
       "      <td>2</td>\n",
       "    </tr>\n",
       "    <tr>\n",
       "      <th>3</th>\n",
       "      <td>9431393</td>\n",
       "      <td>2014-09-01 13:38:48.351000+00:00</td>\n",
       "      <td>214846258</td>\n",
       "      <td>941</td>\n",
       "      <td>1</td>\n",
       "    </tr>\n",
       "    <tr>\n",
       "      <th>4</th>\n",
       "      <td>9431393</td>\n",
       "      <td>2014-09-01 13:38:48.414000+00:00</td>\n",
       "      <td>214853340</td>\n",
       "      <td>837</td>\n",
       "      <td>1</td>\n",
       "    </tr>\n",
       "  </tbody>\n",
       "</table>\n",
       "</div>"
      ],
      "text/plain": [
       "   SessionID                         TimeStamp     ItemID  Price  Quantity\n",
       "0    9641594  2014-09-01 09:09:25.575000+00:00  214853342   2093         2\n",
       "1    9641594  2014-09-01 09:09:25.596000+00:00  214853340    837         2\n",
       "2    9641594  2014-09-01 09:09:25.614000+00:00  214853420   1046         2\n",
       "3    9431393  2014-09-01 13:38:48.351000+00:00  214846258    941         1\n",
       "4    9431393  2014-09-01 13:38:48.414000+00:00  214853340    837         1"
      ]
     },
     "execution_count": 4,
     "metadata": {},
     "output_type": "execute_result"
    }
   ],
   "source": [
    "buy.head()"
   ]
  },
  {
   "cell_type": "code",
   "execution_count": 5,
   "metadata": {
    "scrolled": true
   },
   "outputs": [
    {
     "name": "stdout",
     "output_type": "stream",
     "text": [
      "unique buy session\n",
      "50000\n"
     ]
    }
   ],
   "source": [
    "print('unique buy session')\n",
    "print(len(buy.SessionID.unique()))"
   ]
  },
  {
   "cell_type": "markdown",
   "metadata": {},
   "source": [
    " ## Examples for feature engineering\n",
    " \n",
    " 1 point for explaining each feature.\n",
    " \n",
    " You will not get this 1 point if you do not have code for it, which means only the idea will not count for points.\n",
    " \n",
    " If your coding is incorrect, you still get 1 point for explaining the idea and trying to code for it.\n",
    " \n",
    " Coding without this explaination will result in 0 points for this feature."
   ]
  },
  {
   "cell_type": "markdown",
   "metadata": {},
   "source": [
    "### Example 1 - features from click dataset only\n",
    "you can create a new dataframe for each feature then join by session ID in the end in your ABT"
   ]
  },
  {
   "cell_type": "code",
   "execution_count": 6,
   "metadata": {},
   "outputs": [],
   "source": [
    "# feature 1 \n",
    "# In each click session, how many items were clicked                                                    ---- 1 point\n",
    "\n",
    "feature1 = click.groupby('SessionID')['ItemID'].count().reset_index(name=\"item_cnt_in_ses\")            #---- 9 points"
   ]
  },
  {
   "cell_type": "code",
   "execution_count": 7,
   "metadata": {},
   "outputs": [
    {
     "data": {
      "text/html": [
       "<div>\n",
       "<style scoped>\n",
       "    .dataframe tbody tr th:only-of-type {\n",
       "        vertical-align: middle;\n",
       "    }\n",
       "\n",
       "    .dataframe tbody tr th {\n",
       "        vertical-align: top;\n",
       "    }\n",
       "\n",
       "    .dataframe thead th {\n",
       "        text-align: right;\n",
       "    }\n",
       "</style>\n",
       "<table border=\"1\" class=\"dataframe\">\n",
       "  <thead>\n",
       "    <tr style=\"text-align: right;\">\n",
       "      <th></th>\n",
       "      <th>SessionID</th>\n",
       "      <th>item_cnt_in_ses</th>\n",
       "    </tr>\n",
       "  </thead>\n",
       "  <tbody>\n",
       "    <tr>\n",
       "      <th>0</th>\n",
       "      <td>9194351</td>\n",
       "      <td>5</td>\n",
       "    </tr>\n",
       "    <tr>\n",
       "      <th>1</th>\n",
       "      <td>9194429</td>\n",
       "      <td>2</td>\n",
       "    </tr>\n",
       "    <tr>\n",
       "      <th>2</th>\n",
       "      <td>9194513</td>\n",
       "      <td>3</td>\n",
       "    </tr>\n",
       "    <tr>\n",
       "      <th>3</th>\n",
       "      <td>9194692</td>\n",
       "      <td>1</td>\n",
       "    </tr>\n",
       "    <tr>\n",
       "      <th>4</th>\n",
       "      <td>9194824</td>\n",
       "      <td>1</td>\n",
       "    </tr>\n",
       "  </tbody>\n",
       "</table>\n",
       "</div>"
      ],
      "text/plain": [
       "   SessionID  item_cnt_in_ses\n",
       "0    9194351                5\n",
       "1    9194429                2\n",
       "2    9194513                3\n",
       "3    9194692                1\n",
       "4    9194824                1"
      ]
     },
     "execution_count": 7,
     "metadata": {},
     "output_type": "execute_result"
    }
   ],
   "source": [
    "feature1.head()"
   ]
  },
  {
   "cell_type": "code",
   "execution_count": 8,
   "metadata": {},
   "outputs": [
    {
     "data": {
      "text/plain": [
       "99998"
      ]
     },
     "execution_count": 8,
     "metadata": {},
     "output_type": "execute_result"
    }
   ],
   "source": [
    "len(feature1)"
   ]
  },
  {
   "cell_type": "code",
   "execution_count": null,
   "metadata": {},
   "outputs": [],
   "source": []
  },
  {
   "cell_type": "markdown",
   "metadata": {},
   "source": [
    "### Example 2 - features from click dataset only\n",
    "you can directly create new column for your feature in the original dataframe, \n",
    "then only select the columns you need in the end in your ABT."
   ]
  },
  {
   "cell_type": "code",
   "execution_count": 9,
   "metadata": {},
   "outputs": [],
   "source": [
    "# feature 2 \n",
    "# In which weekday the click activity happened.                                                          ---- 1 point\n",
    "\n",
    "import datetime\n",
    "click['click_weekday'] = pd.DatetimeIndex(click['TimeStamp']).dayofweek                                #---- 9 points"
   ]
  },
  {
   "cell_type": "code",
   "execution_count": 10,
   "metadata": {},
   "outputs": [
    {
     "data": {
      "text/html": [
       "<div>\n",
       "<style scoped>\n",
       "    .dataframe tbody tr th:only-of-type {\n",
       "        vertical-align: middle;\n",
       "    }\n",
       "\n",
       "    .dataframe tbody tr th {\n",
       "        vertical-align: top;\n",
       "    }\n",
       "\n",
       "    .dataframe thead th {\n",
       "        text-align: right;\n",
       "    }\n",
       "</style>\n",
       "<table border=\"1\" class=\"dataframe\">\n",
       "  <thead>\n",
       "    <tr style=\"text-align: right;\">\n",
       "      <th></th>\n",
       "      <th>SessionID</th>\n",
       "      <th>click_weekday</th>\n",
       "    </tr>\n",
       "  </thead>\n",
       "  <tbody>\n",
       "    <tr>\n",
       "      <th>0</th>\n",
       "      <td>9293568</td>\n",
       "      <td>0</td>\n",
       "    </tr>\n",
       "    <tr>\n",
       "      <th>1</th>\n",
       "      <td>9293653</td>\n",
       "      <td>0</td>\n",
       "    </tr>\n",
       "    <tr>\n",
       "      <th>6</th>\n",
       "      <td>9293662</td>\n",
       "      <td>0</td>\n",
       "    </tr>\n",
       "    <tr>\n",
       "      <th>8</th>\n",
       "      <td>9293704</td>\n",
       "      <td>0</td>\n",
       "    </tr>\n",
       "    <tr>\n",
       "      <th>10</th>\n",
       "      <td>9293797</td>\n",
       "      <td>0</td>\n",
       "    </tr>\n",
       "  </tbody>\n",
       "</table>\n",
       "</div>"
      ],
      "text/plain": [
       "    SessionID  click_weekday\n",
       "0     9293568              0\n",
       "1     9293653              0\n",
       "6     9293662              0\n",
       "8     9293704              0\n",
       "10    9293797              0"
      ]
     },
     "execution_count": 10,
     "metadata": {},
     "output_type": "execute_result"
    }
   ],
   "source": [
    "# this step is to investigate duplicates \n",
    "feature2 = click[['SessionID','click_weekday']].drop_duplicates()\n",
    "feature2.head()"
   ]
  },
  {
   "cell_type": "code",
   "execution_count": 11,
   "metadata": {},
   "outputs": [
    {
     "data": {
      "text/plain": [
       "100076"
      ]
     },
     "execution_count": 11,
     "metadata": {},
     "output_type": "execute_result"
    }
   ],
   "source": [
    "len(feature2) "
   ]
  },
  {
   "cell_type": "markdown",
   "metadata": {},
   "source": [
    "There are more feature2 than feature1 because some long sessions might have clicks from 2 different weekdays, \n",
    "especailly if the session happend around midnights.\n",
    "This should not be treated as duplicates but use the same session twice representing differnt weekdays' clicks."
   ]
  },
  {
   "cell_type": "code",
   "execution_count": null,
   "metadata": {},
   "outputs": [],
   "source": []
  },
  {
   "cell_type": "markdown",
   "metadata": {},
   "source": [
    "## Example 3 -- features from click and buy dataset joined"
   ]
  },
  {
   "cell_type": "code",
   "execution_count": 12,
   "metadata": {},
   "outputs": [
    {
     "name": "stdout",
     "output_type": "stream",
     "text": [
      "<bound method NDFrame.head of            SessionID                         TimeStamp     ItemID Category  \\\n",
      "0            9293568  2014-09-01 18:07:00.855000+00:00  214853225        S   \n",
      "7            9293568  2014-09-01 18:07:00.855000+00:00  214853225        S   \n",
      "22           9378348  2014-09-01 20:59:36.817000+00:00  214853225        S   \n",
      "29           9378348  2014-09-01 20:59:36.817000+00:00  214853225        S   \n",
      "44           9354957  2014-09-01 09:57:12.293000+00:00  214853225        S   \n",
      "...              ...                               ...        ...      ...   \n",
      "142184501   11292929  2014-09-27 11:38:11.837000+00:00  214554967        5   \n",
      "142184502   11289399  2014-09-24 17:01:18.671000+00:00  214551294        8   \n",
      "142184503   11299968  2014-09-27 18:41:26.992000+00:00  214769111       11   \n",
      "142184504   11299968  2014-09-27 18:42:18.887000+00:00  214769589       11   \n",
      "142184505   11298832  2014-09-27 17:28:44.687000+00:00  214835199        9   \n",
      "\n",
      "           click_weekday  Price  \n",
      "0                      0    627  \n",
      "7                      0    680  \n",
      "22                     0    627  \n",
      "29                     0    680  \n",
      "44                     0    627  \n",
      "...                  ...    ...  \n",
      "142184501              5    523  \n",
      "142184502              2    449  \n",
      "142184503              5    941  \n",
      "142184504              5    627  \n",
      "142184505              5    941  \n",
      "\n",
      "[661565 rows x 6 columns]>\n",
      "   SessionID  ave_item_price\n",
      "0    9194351     1534.777778\n",
      "1    9194429     1412.500000\n",
      "2    9194513     1470.500000\n",
      "3    9194692     3664.000000\n",
      "4    9194824     9424.000000\n"
     ]
    }
   ],
   "source": [
    "#feature3 \n",
    "# The average price of all items clicked in each click session                                       ---- 1 point\n",
    "\n",
    "# step 1 join certain columns from click and buy tables                                              ---- 9 points\n",
    "df = click.merge(buy[['ItemID','Price']], how = 'inner', on = 'ItemID').drop_duplicates()\n",
    "print(df.head)\n",
    "# this line might take some time to run, be patient.\n",
    "\n",
    "# step 2 caculate average price from items clicked in each session\n",
    "feature3 = df.groupby('SessionID')['Price'].mean().reset_index(name=\"ave_item_price\")\n",
    "print(feature3.head())\n",
    "\n"
   ]
  },
  {
   "cell_type": "code",
   "execution_count": 13,
   "metadata": {},
   "outputs": [
    {
     "data": {
      "text/plain": [
       "96580"
      ]
     },
     "execution_count": 13,
     "metadata": {},
     "output_type": "execute_result"
    }
   ],
   "source": [
    "len(feature3)"
   ]
  },
  {
   "cell_type": "markdown",
   "metadata": {},
   "source": [
    "This feature will have missing values because the downsample caused some items are not in buy table anymore, therefore you won't find the price for the item."
   ]
  },
  {
   "cell_type": "code",
   "execution_count": 14,
   "metadata": {},
   "outputs": [],
   "source": [
    "# feature 4\n",
    "# explain your feature: The total number of items bought by a customer\n",
    "feature4 = buy.groupby('SessionID')['Quantity'].count().reset_index(name=\"amount_bought\")"
   ]
  },
  {
   "cell_type": "code",
   "execution_count": 15,
   "metadata": {},
   "outputs": [
    {
     "data": {
      "text/html": [
       "<div>\n",
       "<style scoped>\n",
       "    .dataframe tbody tr th:only-of-type {\n",
       "        vertical-align: middle;\n",
       "    }\n",
       "\n",
       "    .dataframe tbody tr th {\n",
       "        vertical-align: top;\n",
       "    }\n",
       "\n",
       "    .dataframe thead th {\n",
       "        text-align: right;\n",
       "    }\n",
       "</style>\n",
       "<table border=\"1\" class=\"dataframe\">\n",
       "  <thead>\n",
       "    <tr style=\"text-align: right;\">\n",
       "      <th></th>\n",
       "      <th>SessionID</th>\n",
       "      <th>amount_bought</th>\n",
       "    </tr>\n",
       "  </thead>\n",
       "  <tbody>\n",
       "    <tr>\n",
       "      <th>0</th>\n",
       "      <td>9195209</td>\n",
       "      <td>1</td>\n",
       "    </tr>\n",
       "    <tr>\n",
       "      <th>1</th>\n",
       "      <td>9195293</td>\n",
       "      <td>2</td>\n",
       "    </tr>\n",
       "    <tr>\n",
       "      <th>2</th>\n",
       "      <td>9195434</td>\n",
       "      <td>1</td>\n",
       "    </tr>\n",
       "    <tr>\n",
       "      <th>3</th>\n",
       "      <td>9195476</td>\n",
       "      <td>1</td>\n",
       "    </tr>\n",
       "    <tr>\n",
       "      <th>4</th>\n",
       "      <td>9195828</td>\n",
       "      <td>3</td>\n",
       "    </tr>\n",
       "  </tbody>\n",
       "</table>\n",
       "</div>"
      ],
      "text/plain": [
       "   SessionID  amount_bought\n",
       "0    9195209              1\n",
       "1    9195293              2\n",
       "2    9195434              1\n",
       "3    9195476              1\n",
       "4    9195828              3"
      ]
     },
     "execution_count": 15,
     "metadata": {},
     "output_type": "execute_result"
    }
   ],
   "source": [
    "feature4.head()"
   ]
  },
  {
   "cell_type": "code",
   "execution_count": 16,
   "metadata": {},
   "outputs": [],
   "source": [
    "# feature 5\n",
    "# explain your feature: Whether the session is a repeat buyer, 1 if the session has purchased previously, 0 if haven't purchased before\n",
    "buy['buy_date'] = pd.DatetimeIndex(buy['TimeStamp']).date\n",
    "temp = buy[['SessionID','buy_date']].drop_duplicates()"
   ]
  },
  {
   "cell_type": "code",
   "execution_count": 17,
   "metadata": {},
   "outputs": [],
   "source": [
    "repeat_buyer_list = temp[temp.duplicated(['SessionID'])].SessionID.to_list()"
   ]
  },
  {
   "cell_type": "code",
   "execution_count": 18,
   "metadata": {},
   "outputs": [],
   "source": [
    "buy['repeat_buyer'] = buy.apply(lambda x: 1 if x['SessionID'] in repeat_buyer_list else 0, axis=1)"
   ]
  },
  {
   "cell_type": "code",
   "execution_count": 19,
   "metadata": {},
   "outputs": [
    {
     "data": {
      "text/html": [
       "<div>\n",
       "<style scoped>\n",
       "    .dataframe tbody tr th:only-of-type {\n",
       "        vertical-align: middle;\n",
       "    }\n",
       "\n",
       "    .dataframe tbody tr th {\n",
       "        vertical-align: top;\n",
       "    }\n",
       "\n",
       "    .dataframe thead th {\n",
       "        text-align: right;\n",
       "    }\n",
       "</style>\n",
       "<table border=\"1\" class=\"dataframe\">\n",
       "  <thead>\n",
       "    <tr style=\"text-align: right;\">\n",
       "      <th></th>\n",
       "      <th>SessionID</th>\n",
       "      <th>repeat_buyer</th>\n",
       "    </tr>\n",
       "  </thead>\n",
       "  <tbody>\n",
       "    <tr>\n",
       "      <th>0</th>\n",
       "      <td>9641594</td>\n",
       "      <td>0</td>\n",
       "    </tr>\n",
       "    <tr>\n",
       "      <th>3</th>\n",
       "      <td>9431393</td>\n",
       "      <td>0</td>\n",
       "    </tr>\n",
       "    <tr>\n",
       "      <th>6</th>\n",
       "      <td>9431411</td>\n",
       "      <td>0</td>\n",
       "    </tr>\n",
       "    <tr>\n",
       "      <th>9</th>\n",
       "      <td>9725713</td>\n",
       "      <td>0</td>\n",
       "    </tr>\n",
       "    <tr>\n",
       "      <th>16</th>\n",
       "      <td>9293662</td>\n",
       "      <td>0</td>\n",
       "    </tr>\n",
       "  </tbody>\n",
       "</table>\n",
       "</div>"
      ],
      "text/plain": [
       "    SessionID  repeat_buyer\n",
       "0     9641594             0\n",
       "3     9431393             0\n",
       "6     9431411             0\n",
       "9     9725713             0\n",
       "16    9293662             0"
      ]
     },
     "execution_count": 19,
     "metadata": {},
     "output_type": "execute_result"
    }
   ],
   "source": [
    "feature5 = buy[['SessionID','repeat_buyer']].drop_duplicates()\n",
    "feature5.head()"
   ]
  },
  {
   "cell_type": "code",
   "execution_count": 20,
   "metadata": {},
   "outputs": [],
   "source": [
    "# feature 6\n",
    "# explain your feature: The total amount of money spent by the same session\n",
    "buy['total_sale'] = buy.apply(lambda x: x['Price'] * x['Quantity'], axis=1)\n",
    "feature6 = buy.groupby('SessionID')['total_sale'].sum().reset_index(name='total_spent')\n"
   ]
  },
  {
   "cell_type": "code",
   "execution_count": 21,
   "metadata": {},
   "outputs": [
    {
     "data": {
      "text/html": [
       "<div>\n",
       "<style scoped>\n",
       "    .dataframe tbody tr th:only-of-type {\n",
       "        vertical-align: middle;\n",
       "    }\n",
       "\n",
       "    .dataframe tbody tr th {\n",
       "        vertical-align: top;\n",
       "    }\n",
       "\n",
       "    .dataframe thead th {\n",
       "        text-align: right;\n",
       "    }\n",
       "</style>\n",
       "<table border=\"1\" class=\"dataframe\">\n",
       "  <thead>\n",
       "    <tr style=\"text-align: right;\">\n",
       "      <th></th>\n",
       "      <th>SessionID</th>\n",
       "      <th>total_spent</th>\n",
       "    </tr>\n",
       "  </thead>\n",
       "  <tbody>\n",
       "    <tr>\n",
       "      <th>0</th>\n",
       "      <td>9195209</td>\n",
       "      <td>16650</td>\n",
       "    </tr>\n",
       "    <tr>\n",
       "      <th>1</th>\n",
       "      <td>9195293</td>\n",
       "      <td>3138</td>\n",
       "    </tr>\n",
       "    <tr>\n",
       "      <th>2</th>\n",
       "      <td>9195434</td>\n",
       "      <td>1360</td>\n",
       "    </tr>\n",
       "    <tr>\n",
       "      <th>3</th>\n",
       "      <td>9195476</td>\n",
       "      <td>7328</td>\n",
       "    </tr>\n",
       "    <tr>\n",
       "      <th>4</th>\n",
       "      <td>9195828</td>\n",
       "      <td>5337</td>\n",
       "    </tr>\n",
       "  </tbody>\n",
       "</table>\n",
       "</div>"
      ],
      "text/plain": [
       "   SessionID  total_spent\n",
       "0    9195209        16650\n",
       "1    9195293         3138\n",
       "2    9195434         1360\n",
       "3    9195476         7328\n",
       "4    9195828         5337"
      ]
     },
     "execution_count": 21,
     "metadata": {},
     "output_type": "execute_result"
    }
   ],
   "source": [
    "feature6.head()"
   ]
  },
  {
   "cell_type": "code",
   "execution_count": 22,
   "metadata": {},
   "outputs": [
    {
     "data": {
      "text/html": [
       "<div>\n",
       "<style scoped>\n",
       "    .dataframe tbody tr th:only-of-type {\n",
       "        vertical-align: middle;\n",
       "    }\n",
       "\n",
       "    .dataframe tbody tr th {\n",
       "        vertical-align: top;\n",
       "    }\n",
       "\n",
       "    .dataframe thead th {\n",
       "        text-align: right;\n",
       "    }\n",
       "</style>\n",
       "<table border=\"1\" class=\"dataframe\">\n",
       "  <thead>\n",
       "    <tr style=\"text-align: right;\">\n",
       "      <th></th>\n",
       "      <th>SessionID</th>\n",
       "      <th>click_hour</th>\n",
       "    </tr>\n",
       "  </thead>\n",
       "  <tbody>\n",
       "    <tr>\n",
       "      <th>0</th>\n",
       "      <td>9293568</td>\n",
       "      <td>18</td>\n",
       "    </tr>\n",
       "    <tr>\n",
       "      <th>1</th>\n",
       "      <td>9293653</td>\n",
       "      <td>10</td>\n",
       "    </tr>\n",
       "    <tr>\n",
       "      <th>6</th>\n",
       "      <td>9293662</td>\n",
       "      <td>6</td>\n",
       "    </tr>\n",
       "    <tr>\n",
       "      <th>7</th>\n",
       "      <td>9293662</td>\n",
       "      <td>7</td>\n",
       "    </tr>\n",
       "    <tr>\n",
       "      <th>8</th>\n",
       "      <td>9293704</td>\n",
       "      <td>18</td>\n",
       "    </tr>\n",
       "  </tbody>\n",
       "</table>\n",
       "</div>"
      ],
      "text/plain": [
       "   SessionID  click_hour\n",
       "0    9293568          18\n",
       "1    9293653          10\n",
       "6    9293662           6\n",
       "7    9293662           7\n",
       "8    9293704          18"
      ]
     },
     "execution_count": 22,
     "metadata": {},
     "output_type": "execute_result"
    }
   ],
   "source": [
    "# feature 7\n",
    "# explain your feature: The hour that the session usually browses\n",
    "\n",
    "click['click_hour'] = pd.DatetimeIndex(click['TimeStamp']).hour                               \n",
    "# this step is to investigate duplicates \n",
    "feature7 = click[['SessionID','click_hour']].drop_duplicates()\n",
    "feature7.head()"
   ]
  },
  {
   "cell_type": "code",
   "execution_count": 23,
   "metadata": {},
   "outputs": [
    {
     "data": {
      "text/html": [
       "<div>\n",
       "<style scoped>\n",
       "    .dataframe tbody tr th:only-of-type {\n",
       "        vertical-align: middle;\n",
       "    }\n",
       "\n",
       "    .dataframe tbody tr th {\n",
       "        vertical-align: top;\n",
       "    }\n",
       "\n",
       "    .dataframe thead th {\n",
       "        text-align: right;\n",
       "    }\n",
       "</style>\n",
       "<table border=\"1\" class=\"dataframe\">\n",
       "  <thead>\n",
       "    <tr style=\"text-align: right;\">\n",
       "      <th></th>\n",
       "      <th>SessionID</th>\n",
       "      <th>buy_hour</th>\n",
       "    </tr>\n",
       "  </thead>\n",
       "  <tbody>\n",
       "    <tr>\n",
       "      <th>0</th>\n",
       "      <td>9641594</td>\n",
       "      <td>9</td>\n",
       "    </tr>\n",
       "    <tr>\n",
       "      <th>3</th>\n",
       "      <td>9431393</td>\n",
       "      <td>13</td>\n",
       "    </tr>\n",
       "    <tr>\n",
       "      <th>6</th>\n",
       "      <td>9431411</td>\n",
       "      <td>11</td>\n",
       "    </tr>\n",
       "    <tr>\n",
       "      <th>9</th>\n",
       "      <td>9725713</td>\n",
       "      <td>14</td>\n",
       "    </tr>\n",
       "    <tr>\n",
       "      <th>16</th>\n",
       "      <td>9293662</td>\n",
       "      <td>7</td>\n",
       "    </tr>\n",
       "  </tbody>\n",
       "</table>\n",
       "</div>"
      ],
      "text/plain": [
       "    SessionID  buy_hour\n",
       "0     9641594         9\n",
       "3     9431393        13\n",
       "6     9431411        11\n",
       "9     9725713        14\n",
       "16    9293662         7"
      ]
     },
     "execution_count": 23,
     "metadata": {},
     "output_type": "execute_result"
    }
   ],
   "source": [
    "# feature 8\n",
    "# explain your feature: The hour that the session actually makes the purchase\n",
    "buy['buy_hour'] = pd.DatetimeIndex(buy['TimeStamp']).hour                           \n",
    "feature8 = buy[['SessionID','buy_hour']].drop_duplicates()\n",
    "feature8.head()\n"
   ]
  },
  {
   "cell_type": "code",
   "execution_count": 24,
   "metadata": {},
   "outputs": [
    {
     "data": {
      "text/html": [
       "<div>\n",
       "<style scoped>\n",
       "    .dataframe tbody tr th:only-of-type {\n",
       "        vertical-align: middle;\n",
       "    }\n",
       "\n",
       "    .dataframe tbody tr th {\n",
       "        vertical-align: top;\n",
       "    }\n",
       "\n",
       "    .dataframe thead th {\n",
       "        text-align: right;\n",
       "    }\n",
       "</style>\n",
       "<table border=\"1\" class=\"dataframe\">\n",
       "  <thead>\n",
       "    <tr style=\"text-align: right;\">\n",
       "      <th></th>\n",
       "      <th>SessionID</th>\n",
       "      <th>Category</th>\n",
       "      <th>CategoryCount</th>\n",
       "    </tr>\n",
       "  </thead>\n",
       "  <tbody>\n",
       "    <tr>\n",
       "      <th>0</th>\n",
       "      <td>9194351</td>\n",
       "      <td>S</td>\n",
       "      <td>5</td>\n",
       "    </tr>\n",
       "    <tr>\n",
       "      <th>1</th>\n",
       "      <td>9194429</td>\n",
       "      <td>S</td>\n",
       "      <td>2</td>\n",
       "    </tr>\n",
       "    <tr>\n",
       "      <th>2</th>\n",
       "      <td>9194513</td>\n",
       "      <td>S</td>\n",
       "      <td>3</td>\n",
       "    </tr>\n",
       "    <tr>\n",
       "      <th>3</th>\n",
       "      <td>9194692</td>\n",
       "      <td>S</td>\n",
       "      <td>1</td>\n",
       "    </tr>\n",
       "    <tr>\n",
       "      <th>4</th>\n",
       "      <td>9194824</td>\n",
       "      <td>1</td>\n",
       "      <td>1</td>\n",
       "    </tr>\n",
       "    <tr>\n",
       "      <th>...</th>\n",
       "      <td>...</td>\n",
       "      <td>...</td>\n",
       "      <td>...</td>\n",
       "    </tr>\n",
       "    <tr>\n",
       "      <th>136814</th>\n",
       "      <td>11561999</td>\n",
       "      <td>S</td>\n",
       "      <td>1</td>\n",
       "    </tr>\n",
       "    <tr>\n",
       "      <th>136815</th>\n",
       "      <td>11562071</td>\n",
       "      <td>S</td>\n",
       "      <td>5</td>\n",
       "    </tr>\n",
       "    <tr>\n",
       "      <th>136816</th>\n",
       "      <td>11562104</td>\n",
       "      <td>5</td>\n",
       "      <td>1</td>\n",
       "    </tr>\n",
       "    <tr>\n",
       "      <th>136817</th>\n",
       "      <td>11562107</td>\n",
       "      <td>S</td>\n",
       "      <td>3</td>\n",
       "    </tr>\n",
       "    <tr>\n",
       "      <th>136818</th>\n",
       "      <td>11562107</td>\n",
       "      <td>0</td>\n",
       "      <td>1</td>\n",
       "    </tr>\n",
       "  </tbody>\n",
       "</table>\n",
       "<p>136819 rows × 3 columns</p>\n",
       "</div>"
      ],
      "text/plain": [
       "        SessionID Category  CategoryCount\n",
       "0         9194351        S              5\n",
       "1         9194429        S              2\n",
       "2         9194513        S              3\n",
       "3         9194692        S              1\n",
       "4         9194824        1              1\n",
       "...           ...      ...            ...\n",
       "136814   11561999        S              1\n",
       "136815   11562071        S              5\n",
       "136816   11562104        5              1\n",
       "136817   11562107        S              3\n",
       "136818   11562107        0              1\n",
       "\n",
       "[136819 rows x 3 columns]"
      ]
     },
     "execution_count": 24,
     "metadata": {},
     "output_type": "execute_result"
    }
   ],
   "source": [
    "# feature 9\n",
    "# explain your feature: The amount of clicks a user does for a particular category\n",
    "feature9 = click.groupby(['SessionID'])['Category'].value_counts().reset_index(name='CategoryCount')\n",
    "feature9"
   ]
  },
  {
   "cell_type": "code",
   "execution_count": 25,
   "metadata": {},
   "outputs": [],
   "source": [
    "# feature 10\n",
    "# explain your feature: Whether the session is a repeat visitor\n",
    "click['visit_date'] = pd.DatetimeIndex(click['TimeStamp']).date\n",
    "temp = click[['SessionID','visit_date']].drop_duplicates()\n"
   ]
  },
  {
   "cell_type": "code",
   "execution_count": 26,
   "metadata": {},
   "outputs": [],
   "source": [
    "repeat_visitor_list = temp[temp.duplicated(['SessionID'])].SessionID.to_list()"
   ]
  },
  {
   "cell_type": "code",
   "execution_count": 27,
   "metadata": {},
   "outputs": [],
   "source": [
    "click['repeat_visitor'] = click.apply(lambda x: 1 if x['SessionID'] in repeat_visitor_list else 0, axis=1)"
   ]
  },
  {
   "cell_type": "code",
   "execution_count": 28,
   "metadata": {},
   "outputs": [
    {
     "data": {
      "text/html": [
       "<div>\n",
       "<style scoped>\n",
       "    .dataframe tbody tr th:only-of-type {\n",
       "        vertical-align: middle;\n",
       "    }\n",
       "\n",
       "    .dataframe tbody tr th {\n",
       "        vertical-align: top;\n",
       "    }\n",
       "\n",
       "    .dataframe thead th {\n",
       "        text-align: right;\n",
       "    }\n",
       "</style>\n",
       "<table border=\"1\" class=\"dataframe\">\n",
       "  <thead>\n",
       "    <tr style=\"text-align: right;\">\n",
       "      <th></th>\n",
       "      <th>SessionID</th>\n",
       "      <th>repeat_visitor</th>\n",
       "    </tr>\n",
       "  </thead>\n",
       "  <tbody>\n",
       "    <tr>\n",
       "      <th>0</th>\n",
       "      <td>9293568</td>\n",
       "      <td>0</td>\n",
       "    </tr>\n",
       "    <tr>\n",
       "      <th>1</th>\n",
       "      <td>9293653</td>\n",
       "      <td>0</td>\n",
       "    </tr>\n",
       "    <tr>\n",
       "      <th>6</th>\n",
       "      <td>9293662</td>\n",
       "      <td>0</td>\n",
       "    </tr>\n",
       "    <tr>\n",
       "      <th>8</th>\n",
       "      <td>9293704</td>\n",
       "      <td>0</td>\n",
       "    </tr>\n",
       "    <tr>\n",
       "      <th>10</th>\n",
       "      <td>9293797</td>\n",
       "      <td>0</td>\n",
       "    </tr>\n",
       "  </tbody>\n",
       "</table>\n",
       "</div>"
      ],
      "text/plain": [
       "    SessionID  repeat_visitor\n",
       "0     9293568               0\n",
       "1     9293653               0\n",
       "6     9293662               0\n",
       "8     9293704               0\n",
       "10    9293797               0"
      ]
     },
     "execution_count": 28,
     "metadata": {},
     "output_type": "execute_result"
    }
   ],
   "source": [
    "feature10 = click[['SessionID','repeat_visitor']].drop_duplicates()\n",
    "feature10.head()"
   ]
  },
  {
   "cell_type": "code",
   "execution_count": 29,
   "metadata": {},
   "outputs": [],
   "source": [
    "# feature 11\n",
    "# explain your feature: The cheapest item bought by a customer during a session\n",
    "feature11 = buy.groupby(['SessionID'])['Price'].min().reset_index(name='cheapest_item_price')\n"
   ]
  },
  {
   "cell_type": "code",
   "execution_count": 30,
   "metadata": {},
   "outputs": [],
   "source": [
    "#..."
   ]
  },
  {
   "cell_type": "code",
   "execution_count": null,
   "metadata": {},
   "outputs": [],
   "source": []
  },
  {
   "cell_type": "markdown",
   "metadata": {},
   "source": [
    "### Final Step \n",
    "Create ABT on session level\n",
    "### Construct Predictive Target column  ---- 10 points:\n",
    "If there is a record in buy session, then it means the buy activitiy happened and that buy session should be marked as 1.\n",
    "In click sessions, there are many session ids not in the buy table, that means the click activities happened but buy activity did not happen, then these click sessions should be marked as 0."
   ]
  },
  {
   "cell_type": "markdown",
   "metadata": {},
   "source": []
  },
  {
   "cell_type": "code",
   "execution_count": 31,
   "metadata": {},
   "outputs": [],
   "source": [
    "buy['hasBought'] = 1"
   ]
  },
  {
   "cell_type": "code",
   "execution_count": 32,
   "metadata": {},
   "outputs": [],
   "source": [
    "ABT = click['SessionID'].drop_duplicates()"
   ]
  },
  {
   "cell_type": "code",
   "execution_count": 33,
   "metadata": {},
   "outputs": [],
   "source": [
    "ABT = pd.merge(ABT,buy[['SessionID','hasBought']],on='SessionID',how='left')"
   ]
  },
  {
   "cell_type": "code",
   "execution_count": 34,
   "metadata": {},
   "outputs": [],
   "source": [
    "ABT['hasBought'] = ABT.apply(lambda x: x['hasBought'] if x['hasBought'] == 1 else 0, axis=1)"
   ]
  },
  {
   "cell_type": "markdown",
   "metadata": {},
   "source": [
    "### Join all features together with predictive target column in the final ABT ---- 10 Points"
   ]
  },
  {
   "cell_type": "code",
   "execution_count": 35,
   "metadata": {},
   "outputs": [],
   "source": [
    "ABT = pd.merge(ABT,feature1,on='SessionID',how='left')\n",
    "ABT = pd.merge(ABT,feature2,on='SessionID',how='left')\n",
    "ABT = pd.merge(ABT,feature3,on='SessionID',how='left')\n",
    "ABT = pd.merge(ABT,feature4,on='SessionID',how='left')\n",
    "ABT = pd.merge(ABT,feature5,on='SessionID',how='left')\n",
    "ABT = pd.merge(ABT,feature6,on='SessionID',how='left')\n",
    "ABT = pd.merge(ABT,feature7,on='SessionID',how='left')\n",
    "ABT = pd.merge(ABT,feature8,on='SessionID',how='left')\n",
    "ABT = pd.merge(ABT,feature9,on='SessionID',how='left')\n",
    "ABT = pd.merge(ABT,feature10,on='SessionID',how='left')\n",
    "ABT = pd.merge(ABT,feature11,on='SessionID',how='left')"
   ]
  },
  {
   "cell_type": "code",
   "execution_count": 36,
   "metadata": {},
   "outputs": [
    {
     "data": {
      "text/html": [
       "<div>\n",
       "<style scoped>\n",
       "    .dataframe tbody tr th:only-of-type {\n",
       "        vertical-align: middle;\n",
       "    }\n",
       "\n",
       "    .dataframe tbody tr th {\n",
       "        vertical-align: top;\n",
       "    }\n",
       "\n",
       "    .dataframe thead th {\n",
       "        text-align: right;\n",
       "    }\n",
       "</style>\n",
       "<table border=\"1\" class=\"dataframe\">\n",
       "  <thead>\n",
       "    <tr style=\"text-align: right;\">\n",
       "      <th></th>\n",
       "      <th>SessionID</th>\n",
       "      <th>hasBought</th>\n",
       "      <th>item_cnt_in_ses</th>\n",
       "      <th>click_weekday</th>\n",
       "      <th>ave_item_price</th>\n",
       "      <th>amount_bought</th>\n",
       "      <th>repeat_buyer</th>\n",
       "      <th>total_spent</th>\n",
       "      <th>click_hour</th>\n",
       "      <th>buy_hour</th>\n",
       "      <th>Category</th>\n",
       "      <th>CategoryCount</th>\n",
       "      <th>repeat_visitor</th>\n",
       "      <th>cheapest_item_price</th>\n",
       "    </tr>\n",
       "  </thead>\n",
       "  <tbody>\n",
       "    <tr>\n",
       "      <th>0</th>\n",
       "      <td>9293568</td>\n",
       "      <td>0.0</td>\n",
       "      <td>1</td>\n",
       "      <td>0</td>\n",
       "      <td>653.5</td>\n",
       "      <td>NaN</td>\n",
       "      <td>NaN</td>\n",
       "      <td>NaN</td>\n",
       "      <td>18</td>\n",
       "      <td>NaN</td>\n",
       "      <td>S</td>\n",
       "      <td>1</td>\n",
       "      <td>0</td>\n",
       "      <td>NaN</td>\n",
       "    </tr>\n",
       "    <tr>\n",
       "      <th>1</th>\n",
       "      <td>9293653</td>\n",
       "      <td>0.0</td>\n",
       "      <td>5</td>\n",
       "      <td>0</td>\n",
       "      <td>5706.0</td>\n",
       "      <td>NaN</td>\n",
       "      <td>NaN</td>\n",
       "      <td>NaN</td>\n",
       "      <td>10</td>\n",
       "      <td>NaN</td>\n",
       "      <td>S</td>\n",
       "      <td>4</td>\n",
       "      <td>0</td>\n",
       "      <td>NaN</td>\n",
       "    </tr>\n",
       "    <tr>\n",
       "      <th>2</th>\n",
       "      <td>9293653</td>\n",
       "      <td>0.0</td>\n",
       "      <td>5</td>\n",
       "      <td>0</td>\n",
       "      <td>5706.0</td>\n",
       "      <td>NaN</td>\n",
       "      <td>NaN</td>\n",
       "      <td>NaN</td>\n",
       "      <td>10</td>\n",
       "      <td>NaN</td>\n",
       "      <td>1</td>\n",
       "      <td>1</td>\n",
       "      <td>0</td>\n",
       "      <td>NaN</td>\n",
       "    </tr>\n",
       "    <tr>\n",
       "      <th>3</th>\n",
       "      <td>9293662</td>\n",
       "      <td>1.0</td>\n",
       "      <td>2</td>\n",
       "      <td>0</td>\n",
       "      <td>1151.0</td>\n",
       "      <td>1.0</td>\n",
       "      <td>0.0</td>\n",
       "      <td>1151.0</td>\n",
       "      <td>6</td>\n",
       "      <td>7.0</td>\n",
       "      <td>S</td>\n",
       "      <td>2</td>\n",
       "      <td>0</td>\n",
       "      <td>1151.0</td>\n",
       "    </tr>\n",
       "    <tr>\n",
       "      <th>4</th>\n",
       "      <td>9293662</td>\n",
       "      <td>1.0</td>\n",
       "      <td>2</td>\n",
       "      <td>0</td>\n",
       "      <td>1151.0</td>\n",
       "      <td>1.0</td>\n",
       "      <td>0.0</td>\n",
       "      <td>1151.0</td>\n",
       "      <td>7</td>\n",
       "      <td>7.0</td>\n",
       "      <td>S</td>\n",
       "      <td>2</td>\n",
       "      <td>0</td>\n",
       "      <td>1151.0</td>\n",
       "    </tr>\n",
       "    <tr>\n",
       "      <th>...</th>\n",
       "      <td>...</td>\n",
       "      <td>...</td>\n",
       "      <td>...</td>\n",
       "      <td>...</td>\n",
       "      <td>...</td>\n",
       "      <td>...</td>\n",
       "      <td>...</td>\n",
       "      <td>...</td>\n",
       "      <td>...</td>\n",
       "      <td>...</td>\n",
       "      <td>...</td>\n",
       "      <td>...</td>\n",
       "      <td>...</td>\n",
       "      <td>...</td>\n",
       "    </tr>\n",
       "    <tr>\n",
       "      <th>383597</th>\n",
       "      <td>11299794</td>\n",
       "      <td>1.0</td>\n",
       "      <td>10</td>\n",
       "      <td>2</td>\n",
       "      <td>1360.3</td>\n",
       "      <td>2.0</td>\n",
       "      <td>0.0</td>\n",
       "      <td>7328.0</td>\n",
       "      <td>19</td>\n",
       "      <td>19.0</td>\n",
       "      <td>1</td>\n",
       "      <td>1</td>\n",
       "      <td>0</td>\n",
       "      <td>3664.0</td>\n",
       "    </tr>\n",
       "    <tr>\n",
       "      <th>383598</th>\n",
       "      <td>11299793</td>\n",
       "      <td>1.0</td>\n",
       "      <td>3</td>\n",
       "      <td>3</td>\n",
       "      <td>1465.0</td>\n",
       "      <td>2.0</td>\n",
       "      <td>0.0</td>\n",
       "      <td>3663.0</td>\n",
       "      <td>7</td>\n",
       "      <td>7.0</td>\n",
       "      <td>S</td>\n",
       "      <td>2</td>\n",
       "      <td>0</td>\n",
       "      <td>1570.0</td>\n",
       "    </tr>\n",
       "    <tr>\n",
       "      <th>383599</th>\n",
       "      <td>11299793</td>\n",
       "      <td>1.0</td>\n",
       "      <td>3</td>\n",
       "      <td>3</td>\n",
       "      <td>1465.0</td>\n",
       "      <td>2.0</td>\n",
       "      <td>0.0</td>\n",
       "      <td>3663.0</td>\n",
       "      <td>7</td>\n",
       "      <td>7.0</td>\n",
       "      <td>5</td>\n",
       "      <td>1</td>\n",
       "      <td>0</td>\n",
       "      <td>1570.0</td>\n",
       "    </tr>\n",
       "    <tr>\n",
       "      <th>383600</th>\n",
       "      <td>11299793</td>\n",
       "      <td>1.0</td>\n",
       "      <td>3</td>\n",
       "      <td>3</td>\n",
       "      <td>1465.0</td>\n",
       "      <td>2.0</td>\n",
       "      <td>0.0</td>\n",
       "      <td>3663.0</td>\n",
       "      <td>7</td>\n",
       "      <td>7.0</td>\n",
       "      <td>S</td>\n",
       "      <td>2</td>\n",
       "      <td>0</td>\n",
       "      <td>1570.0</td>\n",
       "    </tr>\n",
       "    <tr>\n",
       "      <th>383601</th>\n",
       "      <td>11299793</td>\n",
       "      <td>1.0</td>\n",
       "      <td>3</td>\n",
       "      <td>3</td>\n",
       "      <td>1465.0</td>\n",
       "      <td>2.0</td>\n",
       "      <td>0.0</td>\n",
       "      <td>3663.0</td>\n",
       "      <td>7</td>\n",
       "      <td>7.0</td>\n",
       "      <td>5</td>\n",
       "      <td>1</td>\n",
       "      <td>0</td>\n",
       "      <td>1570.0</td>\n",
       "    </tr>\n",
       "  </tbody>\n",
       "</table>\n",
       "<p>383602 rows × 14 columns</p>\n",
       "</div>"
      ],
      "text/plain": [
       "        SessionID  hasBought  item_cnt_in_ses  click_weekday  ave_item_price  \\\n",
       "0         9293568        0.0                1              0           653.5   \n",
       "1         9293653        0.0                5              0          5706.0   \n",
       "2         9293653        0.0                5              0          5706.0   \n",
       "3         9293662        1.0                2              0          1151.0   \n",
       "4         9293662        1.0                2              0          1151.0   \n",
       "...           ...        ...              ...            ...             ...   \n",
       "383597   11299794        1.0               10              2          1360.3   \n",
       "383598   11299793        1.0                3              3          1465.0   \n",
       "383599   11299793        1.0                3              3          1465.0   \n",
       "383600   11299793        1.0                3              3          1465.0   \n",
       "383601   11299793        1.0                3              3          1465.0   \n",
       "\n",
       "        amount_bought  repeat_buyer  total_spent  click_hour  buy_hour  \\\n",
       "0                 NaN           NaN          NaN          18       NaN   \n",
       "1                 NaN           NaN          NaN          10       NaN   \n",
       "2                 NaN           NaN          NaN          10       NaN   \n",
       "3                 1.0           0.0       1151.0           6       7.0   \n",
       "4                 1.0           0.0       1151.0           7       7.0   \n",
       "...               ...           ...          ...         ...       ...   \n",
       "383597            2.0           0.0       7328.0          19      19.0   \n",
       "383598            2.0           0.0       3663.0           7       7.0   \n",
       "383599            2.0           0.0       3663.0           7       7.0   \n",
       "383600            2.0           0.0       3663.0           7       7.0   \n",
       "383601            2.0           0.0       3663.0           7       7.0   \n",
       "\n",
       "       Category  CategoryCount  repeat_visitor  cheapest_item_price  \n",
       "0             S              1               0                  NaN  \n",
       "1             S              4               0                  NaN  \n",
       "2             1              1               0                  NaN  \n",
       "3             S              2               0               1151.0  \n",
       "4             S              2               0               1151.0  \n",
       "...         ...            ...             ...                  ...  \n",
       "383597        1              1               0               3664.0  \n",
       "383598        S              2               0               1570.0  \n",
       "383599        5              1               0               1570.0  \n",
       "383600        S              2               0               1570.0  \n",
       "383601        5              1               0               1570.0  \n",
       "\n",
       "[383602 rows x 14 columns]"
      ]
     },
     "execution_count": 36,
     "metadata": {},
     "output_type": "execute_result"
    }
   ],
   "source": [
    "ABT"
   ]
  },
  {
   "cell_type": "code",
   "execution_count": 37,
   "metadata": {},
   "outputs": [],
   "source": [
    "ABT.to_csv('ABT.csv')"
   ]
  },
  {
   "cell_type": "code",
   "execution_count": null,
   "metadata": {},
   "outputs": [],
   "source": []
  }
 ],
 "metadata": {
  "kernelspec": {
   "display_name": "Python 3",
   "language": "python",
   "name": "python3"
  },
  "language_info": {
   "codemirror_mode": {
    "name": "ipython",
    "version": 3
   },
   "file_extension": ".py",
   "mimetype": "text/x-python",
   "name": "python",
   "nbconvert_exporter": "python",
   "pygments_lexer": "ipython3",
   "version": "3.8.3"
  }
 },
 "nbformat": 4,
 "nbformat_minor": 4
}
