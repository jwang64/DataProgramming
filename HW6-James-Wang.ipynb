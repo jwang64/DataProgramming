{
 "cells": [
  {
   "cell_type": "markdown",
   "metadata": {},
   "source": [
    "## HW6 Training Machine Learning Models\n",
    "\n",
    "#### This homework can not be dropped even it gets the lowest score in your homework, which means, the score you get from this homework will be counted towards your final grade. The lowest score from HW1 - HW5 will be dropped."
   ]
  },
  {
   "cell_type": "markdown",
   "metadata": {},
   "source": [
    "#### Load Python libraries that you will use :"
   ]
  },
  {
   "cell_type": "code",
   "execution_count": 252,
   "metadata": {},
   "outputs": [],
   "source": [
    "import pandas as pd\n",
    "import sklearn as sk\n",
    "from sklearn.model_selection import train_test_split\n",
    "from sklearn.linear_model import LogisticRegression\n",
    "from sklearn import metrics\n",
    "import matplotlib.pyplot as plt\n",
    "from sklearn.tree import DecisionTreeClassifier"
   ]
  },
  {
   "cell_type": "markdown",
   "metadata": {},
   "source": [
    "#### Load your Analytical Base Table from HW5 :"
   ]
  },
  {
   "cell_type": "code",
   "execution_count": 253,
   "metadata": {},
   "outputs": [
    {
     "name": "stderr",
     "output_type": "stream",
     "text": [
      "C:\\Users\\54208\\Anaconda3\\lib\\site-packages\\IPython\\core\\interactiveshell.py:3071: DtypeWarning: Columns (2) have mixed types.Specify dtype option on import or set low_memory=False.\n",
      "  has_raised = await self.run_ast_nodes(code_ast.body, cell_name,\n"
     ]
    }
   ],
   "source": [
    "ABT = pd.read_csv('ABT.csv')"
   ]
  },
  {
   "cell_type": "code",
   "execution_count": 254,
   "metadata": {},
   "outputs": [],
   "source": [
    "ABT = ABT.drop_duplicates('SessionID')"
   ]
  },
  {
   "cell_type": "markdown",
   "metadata": {},
   "source": [
    "#### Removing columns that can't be used for the model"
   ]
  },
  {
   "cell_type": "code",
   "execution_count": 255,
   "metadata": {},
   "outputs": [],
   "source": [
    "ABT.drop('amount_bought',axis =1, inplace=True)\n",
    "ABT.drop('repeat_buyer',axis=1, inplace=True)\n",
    "ABT.drop('total_spent', axis=1, inplace=True)\n",
    "ABT.drop('buy_hour',axis=1, inplace=True)\n",
    "ABT.drop('cheapest_item_price',axis=1, inplace=True)"
   ]
  },
  {
   "cell_type": "markdown",
   "metadata": {},
   "source": [
    "#### Adding new features to ABT"
   ]
  },
  {
   "cell_type": "code",
   "execution_count": 256,
   "metadata": {},
   "outputs": [],
   "source": [
    "click = pd.read_csv('click_sep.csv', low_memory=False)\n",
    "\n",
    "buy = pd.read_csv('buy_sep.csv',low_memory=False)"
   ]
  },
  {
   "cell_type": "code",
   "execution_count": 257,
   "metadata": {},
   "outputs": [
    {
     "data": {
      "text/html": [
       "<div>\n",
       "<style scoped>\n",
       "    .dataframe tbody tr th:only-of-type {\n",
       "        vertical-align: middle;\n",
       "    }\n",
       "\n",
       "    .dataframe tbody tr th {\n",
       "        vertical-align: top;\n",
       "    }\n",
       "\n",
       "    .dataframe thead th {\n",
       "        text-align: right;\n",
       "    }\n",
       "</style>\n",
       "<table border=\"1\" class=\"dataframe\">\n",
       "  <thead>\n",
       "    <tr style=\"text-align: right;\">\n",
       "      <th></th>\n",
       "      <th>SessionID</th>\n",
       "      <th>TimeStamp</th>\n",
       "      <th>ItemID</th>\n",
       "      <th>Category</th>\n",
       "    </tr>\n",
       "  </thead>\n",
       "  <tbody>\n",
       "    <tr>\n",
       "      <th>0</th>\n",
       "      <td>9293568</td>\n",
       "      <td>2014-09-01 18:07:00.855000+00:00</td>\n",
       "      <td>214853225</td>\n",
       "      <td>S</td>\n",
       "    </tr>\n",
       "    <tr>\n",
       "      <th>1</th>\n",
       "      <td>9293653</td>\n",
       "      <td>2014-09-01 10:38:47.087000+00:00</td>\n",
       "      <td>214834871</td>\n",
       "      <td>S</td>\n",
       "    </tr>\n",
       "    <tr>\n",
       "      <th>2</th>\n",
       "      <td>9293653</td>\n",
       "      <td>2014-09-01 10:39:49.115000+00:00</td>\n",
       "      <td>214849327</td>\n",
       "      <td>S</td>\n",
       "    </tr>\n",
       "    <tr>\n",
       "      <th>3</th>\n",
       "      <td>9293653</td>\n",
       "      <td>2014-09-01 10:40:31.736000+00:00</td>\n",
       "      <td>214828970</td>\n",
       "      <td>S</td>\n",
       "    </tr>\n",
       "    <tr>\n",
       "      <th>4</th>\n",
       "      <td>9293653</td>\n",
       "      <td>2014-09-01 10:41:01.640000+00:00</td>\n",
       "      <td>214849327</td>\n",
       "      <td>S</td>\n",
       "    </tr>\n",
       "  </tbody>\n",
       "</table>\n",
       "</div>"
      ],
      "text/plain": [
       "   SessionID                         TimeStamp     ItemID Category\n",
       "0    9293568  2014-09-01 18:07:00.855000+00:00  214853225        S\n",
       "1    9293653  2014-09-01 10:38:47.087000+00:00  214834871        S\n",
       "2    9293653  2014-09-01 10:39:49.115000+00:00  214849327        S\n",
       "3    9293653  2014-09-01 10:40:31.736000+00:00  214828970        S\n",
       "4    9293653  2014-09-01 10:41:01.640000+00:00  214849327        S"
      ]
     },
     "execution_count": 257,
     "metadata": {},
     "output_type": "execute_result"
    }
   ],
   "source": [
    "click.head()"
   ]
  },
  {
   "cell_type": "code",
   "execution_count": 258,
   "metadata": {},
   "outputs": [
    {
     "data": {
      "text/html": [
       "<div>\n",
       "<style scoped>\n",
       "    .dataframe tbody tr th:only-of-type {\n",
       "        vertical-align: middle;\n",
       "    }\n",
       "\n",
       "    .dataframe tbody tr th {\n",
       "        vertical-align: top;\n",
       "    }\n",
       "\n",
       "    .dataframe thead th {\n",
       "        text-align: right;\n",
       "    }\n",
       "</style>\n",
       "<table border=\"1\" class=\"dataframe\">\n",
       "  <thead>\n",
       "    <tr style=\"text-align: right;\">\n",
       "      <th></th>\n",
       "      <th>SessionID</th>\n",
       "      <th>TimeStamp</th>\n",
       "      <th>ItemID</th>\n",
       "      <th>Price</th>\n",
       "      <th>Quantity</th>\n",
       "    </tr>\n",
       "  </thead>\n",
       "  <tbody>\n",
       "    <tr>\n",
       "      <th>0</th>\n",
       "      <td>9641594</td>\n",
       "      <td>2014-09-01 09:09:25.575000+00:00</td>\n",
       "      <td>214853342</td>\n",
       "      <td>2093</td>\n",
       "      <td>2</td>\n",
       "    </tr>\n",
       "    <tr>\n",
       "      <th>1</th>\n",
       "      <td>9641594</td>\n",
       "      <td>2014-09-01 09:09:25.596000+00:00</td>\n",
       "      <td>214853340</td>\n",
       "      <td>837</td>\n",
       "      <td>2</td>\n",
       "    </tr>\n",
       "    <tr>\n",
       "      <th>2</th>\n",
       "      <td>9641594</td>\n",
       "      <td>2014-09-01 09:09:25.614000+00:00</td>\n",
       "      <td>214853420</td>\n",
       "      <td>1046</td>\n",
       "      <td>2</td>\n",
       "    </tr>\n",
       "    <tr>\n",
       "      <th>3</th>\n",
       "      <td>9431393</td>\n",
       "      <td>2014-09-01 13:38:48.351000+00:00</td>\n",
       "      <td>214846258</td>\n",
       "      <td>941</td>\n",
       "      <td>1</td>\n",
       "    </tr>\n",
       "    <tr>\n",
       "      <th>4</th>\n",
       "      <td>9431393</td>\n",
       "      <td>2014-09-01 13:38:48.414000+00:00</td>\n",
       "      <td>214853340</td>\n",
       "      <td>837</td>\n",
       "      <td>1</td>\n",
       "    </tr>\n",
       "  </tbody>\n",
       "</table>\n",
       "</div>"
      ],
      "text/plain": [
       "   SessionID                         TimeStamp     ItemID  Price  Quantity\n",
       "0    9641594  2014-09-01 09:09:25.575000+00:00  214853342   2093         2\n",
       "1    9641594  2014-09-01 09:09:25.596000+00:00  214853340    837         2\n",
       "2    9641594  2014-09-01 09:09:25.614000+00:00  214853420   1046         2\n",
       "3    9431393  2014-09-01 13:38:48.351000+00:00  214846258    941         1\n",
       "4    9431393  2014-09-01 13:38:48.414000+00:00  214853340    837         1"
      ]
     },
     "execution_count": 258,
     "metadata": {},
     "output_type": "execute_result"
    }
   ],
   "source": [
    "buy.head()"
   ]
  },
  {
   "cell_type": "code",
   "execution_count": 259,
   "metadata": {},
   "outputs": [],
   "source": [
    "#New Feature 1: The number of times looked at popular categories\n",
    "top5_category = click['Category'].value_counts().head().index.tolist()\n",
    "popular_category_df = click[~click['Category'].isin(top5_category)]\n",
    "newfeature1 = popular_category_df.groupby('SessionID')['SessionID'].count().reset_index(name='popular_category_view_count')\n",
    "ABT = pd.merge(ABT,newfeature1,on='SessionID',how='left')"
   ]
  },
  {
   "cell_type": "code",
   "execution_count": 260,
   "metadata": {},
   "outputs": [],
   "source": [
    "#New Feature 2: Whether the session repeatedly looks at the same item\n",
    "repeat_item_viewers = click[click.duplicated(subset=['SessionID','ItemID'])]['SessionID'].reset_index()\n",
    "repeat_item_viewers.drop('index',axis=1,inplace=True)\n",
    "repeat_item_viewers['repeat_item_visitor'] = 1\n",
    "repeat_item_viewers = repeat_item_viewers.drop_duplicates('SessionID')\n",
    "newfeature2 = repeat_item_viewers\n",
    "ABT = pd.merge(ABT,newfeature2,on='SessionID',how='left')"
   ]
  },
  {
   "cell_type": "code",
   "execution_count": 262,
   "metadata": {},
   "outputs": [],
   "source": [
    "#New Feature 3: The number of times looked at a top 10 popular item\n",
    "top10_popular_item = click['ItemID'].value_counts().head(10).index.tolist()\n",
    "top_item_df = click[click['ItemID'].isin(top10_popular_item)]\n",
    "newfeature3 = top_item_df.groupby('SessionID')['SessionID'].count().reset_index(name='times_looked_at_popular_item')\n",
    "ABT = pd.merge(ABT,newfeature3,on='SessionID',how='left')"
   ]
  },
  {
   "cell_type": "code",
   "execution_count": 264,
   "metadata": {},
   "outputs": [],
   "source": [
    "#New Feature 4: Whether the sessions have only visited once\n",
    "sessionID_counts = click.groupby('SessionID')['SessionID'].count().reset_index(name='Single_session_visit')\n",
    "newfeature4 = sessionID_counts[sessionID_counts['Single_session_visit'] == 1]\n",
    "ABT = pd.merge(ABT,newfeature4,on='SessionID',how='left')"
   ]
  },
  {
   "cell_type": "code",
   "execution_count": 266,
   "metadata": {},
   "outputs": [
    {
     "name": "stderr",
     "output_type": "stream",
     "text": [
      "<ipython-input-266-1a505a24b2cd>:4: SettingWithCopyWarning: \n",
      "A value is trying to be set on a copy of a slice from a DataFrame.\n",
      "Try using .loc[row_indexer,col_indexer] = value instead\n",
      "\n",
      "See the caveats in the documentation: https://pandas.pydata.org/pandas-docs/stable/user_guide/indexing.html#returning-a-view-versus-a-copy\n",
      "  top_10_percent_visitors['top_visitor'] = 1\n"
     ]
    }
   ],
   "source": [
    "#New feature 5: Whether the session is in the top 10% visits the website\n",
    "session_visits = click.groupby('SessionID')['SessionID'].count().reset_index(name='top_session_visits').sort_values('top_session_visits',ascending=False)\n",
    "top_10_percent_visitors = session_visits.head(9999)\n",
    "top_10_percent_visitors['top_visitor'] = 1\n",
    "newfeature5 = top_10_percent_visitors[['SessionID','top_visitor']]\n",
    "ABT = pd.merge(ABT,newfeature5,on='SessionID',how='left')"
   ]
  },
  {
   "cell_type": "markdown",
   "metadata": {},
   "source": [
    "#### Data Pre-Processing   -- 20 points \n",
    "\n",
    " Examples: \n",
    " \n",
    "             Categorical data encoding \n",
    "             Missing data imputation \n",
    "             Data normalization and standardization \n",
    "             Split train and test datasets"
   ]
  },
  {
   "cell_type": "markdown",
   "metadata": {},
   "source": [
    "##### Categorical Data Encoding"
   ]
  },
  {
   "cell_type": "code",
   "execution_count": 268,
   "metadata": {},
   "outputs": [
    {
     "data": {
      "text/plain": [
       "S             65462\n",
       "1              9897\n",
       "2              5627\n",
       "3              5542\n",
       "0              3831\n",
       "5              2238\n",
       "6              2056\n",
       "7              1953\n",
       "4              1269\n",
       "8               964\n",
       "9               499\n",
       "11              324\n",
       "10              168\n",
       "12              147\n",
       "2089287217        3\n",
       "2089286907        3\n",
       "2089538467        3\n",
       "2089404239        2\n",
       "2089437536        2\n",
       "2089221555        2\n",
       "2089615685        1\n",
       "2089318666        1\n",
       "2088973177        1\n",
       "2089422131        1\n",
       "2089300095        1\n",
       "2088966377        1\n",
       "Name: Category, dtype: int64"
      ]
     },
     "execution_count": 268,
     "metadata": {},
     "output_type": "execute_result"
    }
   ],
   "source": [
    "ABT['Category'].value_counts()"
   ]
  },
  {
   "cell_type": "code",
   "execution_count": 269,
   "metadata": {},
   "outputs": [],
   "source": [
    "ABT['Category'] = ABT.apply(lambda x: 64 if x['Category'] == 'S' else x['Category'], axis = 1)"
   ]
  },
  {
   "cell_type": "markdown",
   "metadata": {},
   "source": [
    "##### Missing Data"
   ]
  },
  {
   "cell_type": "code",
   "execution_count": 270,
   "metadata": {},
   "outputs": [
    {
     "data": {
      "text/plain": [
       "10487807    1\n",
       "10445497    1\n",
       "10508958    1\n",
       "9851551     1\n",
       "11248289    1\n",
       "           ..\n",
       "9303316     1\n",
       "10091797    1\n",
       "11265302    1\n",
       "10196248    1\n",
       "10092544    1\n",
       "Name: SessionID, Length: 99998, dtype: int64"
      ]
     },
     "execution_count": 270,
     "metadata": {},
     "output_type": "execute_result"
    }
   ],
   "source": [
    "ABT['SessionID'].value_counts()"
   ]
  },
  {
   "cell_type": "code",
   "execution_count": 271,
   "metadata": {},
   "outputs": [
    {
     "data": {
      "text/plain": [
       "0    50000\n",
       "1    49998\n",
       "Name: hasBought, dtype: int64"
      ]
     },
     "execution_count": 271,
     "metadata": {},
     "output_type": "execute_result"
    }
   ],
   "source": [
    "ABT['hasBought'].value_counts()"
   ]
  },
  {
   "cell_type": "code",
   "execution_count": 272,
   "metadata": {},
   "outputs": [
    {
     "data": {
      "text/plain": [
       "2      21920\n",
       "1      12690\n",
       "3      12036\n",
       "4       8342\n",
       "5       5773\n",
       "       ...  \n",
       "143        1\n",
       "146        1\n",
       "163        1\n",
       "181        1\n",
       "92         1\n",
       "Name: item_cnt_in_ses, Length: 168, dtype: int64"
      ]
     },
     "execution_count": 272,
     "metadata": {},
     "output_type": "execute_result"
    }
   ],
   "source": [
    "ABT['item_cnt_in_ses'].value_counts()"
   ]
  },
  {
   "cell_type": "code",
   "execution_count": 273,
   "metadata": {},
   "outputs": [],
   "source": [
    "ABT = ABT[ABT['item_cnt_in_ses'] != 's']"
   ]
  },
  {
   "cell_type": "code",
   "execution_count": 274,
   "metadata": {},
   "outputs": [
    {
     "data": {
      "text/plain": [
       "0    24880\n",
       "6    22349\n",
       "3    12591\n",
       "2    12456\n",
       "5    12442\n",
       "4    12424\n",
       "1     2855\n",
       "Name: click_weekday, dtype: int64"
      ]
     },
     "execution_count": 274,
     "metadata": {},
     "output_type": "execute_result"
    }
   ],
   "source": [
    "ABT['click_weekday'].value_counts()"
   ]
  },
  {
   "cell_type": "code",
   "execution_count": 275,
   "metadata": {},
   "outputs": [
    {
     "name": "stderr",
     "output_type": "stream",
     "text": [
      "<ipython-input-275-e4b7fd58f53c>:1: SettingWithCopyWarning: \n",
      "A value is trying to be set on a copy of a slice from a DataFrame.\n",
      "Try using .loc[row_indexer,col_indexer] = value instead\n",
      "\n",
      "See the caveats in the documentation: https://pandas.pydata.org/pandas-docs/stable/user_guide/indexing.html#returning-a-view-versus-a-copy\n",
      "  ABT['ave_item_price'] = ABT['ave_item_price'].fillna(0)\n"
     ]
    }
   ],
   "source": [
    "ABT['ave_item_price'] = ABT['ave_item_price'].fillna(0)"
   ]
  },
  {
   "cell_type": "code",
   "execution_count": 276,
   "metadata": {},
   "outputs": [
    {
     "data": {
      "text/plain": [
       "18    7785\n",
       "19    7449\n",
       "17    6841\n",
       "8     6425\n",
       "9     6409\n",
       "10    6026\n",
       "11    5999\n",
       "16    5977\n",
       "15    5936\n",
       "7     5820\n",
       "14    5605\n",
       "12    5520\n",
       "13    5498\n",
       "20    4967\n",
       "6     4598\n",
       "5     2620\n",
       "21    2551\n",
       "4     1205\n",
       "22    1112\n",
       "23     462\n",
       "3      428\n",
       "0      299\n",
       "2      245\n",
       "1      220\n",
       "Name: click_hour, dtype: int64"
      ]
     },
     "execution_count": 276,
     "metadata": {},
     "output_type": "execute_result"
    }
   ],
   "source": [
    "ABT['click_hour'].value_counts()"
   ]
  },
  {
   "cell_type": "code",
   "execution_count": 277,
   "metadata": {},
   "outputs": [
    {
     "data": {
      "text/plain": [
       "0"
      ]
     },
     "execution_count": 277,
     "metadata": {},
     "output_type": "execute_result"
    }
   ],
   "source": [
    "ABT['repeat_visitor'].isna().sum()"
   ]
  },
  {
   "cell_type": "code",
   "execution_count": 278,
   "metadata": {},
   "outputs": [
    {
     "name": "stderr",
     "output_type": "stream",
     "text": [
      "<ipython-input-278-f96b4f5521d6>:1: SettingWithCopyWarning: \n",
      "A value is trying to be set on a copy of a slice from a DataFrame.\n",
      "Try using .loc[row_indexer,col_indexer] = value instead\n",
      "\n",
      "See the caveats in the documentation: https://pandas.pydata.org/pandas-docs/stable/user_guide/indexing.html#returning-a-view-versus-a-copy\n",
      "  ABT['popular_category_view_count'] = ABT['popular_category_view_count'].fillna(0)\n"
     ]
    }
   ],
   "source": [
    "ABT['popular_category_view_count'] = ABT['popular_category_view_count'].fillna(0)"
   ]
  },
  {
   "cell_type": "code",
   "execution_count": 279,
   "metadata": {},
   "outputs": [
    {
     "name": "stderr",
     "output_type": "stream",
     "text": [
      "<ipython-input-279-0f391c54982d>:1: SettingWithCopyWarning: \n",
      "A value is trying to be set on a copy of a slice from a DataFrame.\n",
      "Try using .loc[row_indexer,col_indexer] = value instead\n",
      "\n",
      "See the caveats in the documentation: https://pandas.pydata.org/pandas-docs/stable/user_guide/indexing.html#returning-a-view-versus-a-copy\n",
      "  ABT['repeat_item_visitor'] = ABT.apply(lambda x: 1 if x['repeat_item_visitor'] == 1 else 0, axis=1)\n"
     ]
    }
   ],
   "source": [
    "ABT['repeat_item_visitor'] = ABT.apply(lambda x: 1 if x['repeat_item_visitor'] == 1 else 0, axis=1)"
   ]
  },
  {
   "cell_type": "code",
   "execution_count": 280,
   "metadata": {},
   "outputs": [
    {
     "name": "stderr",
     "output_type": "stream",
     "text": [
      "<ipython-input-280-abd5edc9dc57>:1: SettingWithCopyWarning: \n",
      "A value is trying to be set on a copy of a slice from a DataFrame.\n",
      "Try using .loc[row_indexer,col_indexer] = value instead\n",
      "\n",
      "See the caveats in the documentation: https://pandas.pydata.org/pandas-docs/stable/user_guide/indexing.html#returning-a-view-versus-a-copy\n",
      "  ABT['times_looked_at_popular_item'] = ABT['times_looked_at_popular_item'].fillna(0)\n"
     ]
    }
   ],
   "source": [
    "ABT['times_looked_at_popular_item'] = ABT['times_looked_at_popular_item'].fillna(0)"
   ]
  },
  {
   "cell_type": "code",
   "execution_count": 281,
   "metadata": {},
   "outputs": [
    {
     "name": "stderr",
     "output_type": "stream",
     "text": [
      "<ipython-input-281-db783ea51952>:1: SettingWithCopyWarning: \n",
      "A value is trying to be set on a copy of a slice from a DataFrame.\n",
      "Try using .loc[row_indexer,col_indexer] = value instead\n",
      "\n",
      "See the caveats in the documentation: https://pandas.pydata.org/pandas-docs/stable/user_guide/indexing.html#returning-a-view-versus-a-copy\n",
      "  ABT['Single_session_visit'] = ABT['Single_session_visit'].fillna(0)\n"
     ]
    }
   ],
   "source": [
    "ABT['Single_session_visit'] = ABT['Single_session_visit'].fillna(0)"
   ]
  },
  {
   "cell_type": "code",
   "execution_count": 284,
   "metadata": {},
   "outputs": [
    {
     "name": "stderr",
     "output_type": "stream",
     "text": [
      "<ipython-input-284-2ea03d0cf665>:1: SettingWithCopyWarning: \n",
      "A value is trying to be set on a copy of a slice from a DataFrame.\n",
      "Try using .loc[row_indexer,col_indexer] = value instead\n",
      "\n",
      "See the caveats in the documentation: https://pandas.pydata.org/pandas-docs/stable/user_guide/indexing.html#returning-a-view-versus-a-copy\n",
      "  ABT['top_visitor'] = ABT['top_visitor'].fillna(0)\n"
     ]
    }
   ],
   "source": [
    "ABT['top_visitor'] = ABT['top_visitor'].fillna(0)"
   ]
  },
  {
   "cell_type": "markdown",
   "metadata": {},
   "source": [
    "##### Data Normalization"
   ]
  },
  {
   "cell_type": "code",
   "execution_count": 287,
   "metadata": {},
   "outputs": [],
   "source": [
    "ABT = ABT.apply(pd.to_numeric, errors='coerce')"
   ]
  },
  {
   "cell_type": "code",
   "execution_count": 288,
   "metadata": {},
   "outputs": [],
   "source": [
    "normalized_ABT = ABT.copy()"
   ]
  },
  {
   "cell_type": "code",
   "execution_count": 289,
   "metadata": {},
   "outputs": [],
   "source": [
    "ABT_Normalization = normalized_ABT.iloc[:,1:]"
   ]
  },
  {
   "cell_type": "code",
   "execution_count": 290,
   "metadata": {},
   "outputs": [],
   "source": [
    "normalized_ABT.iloc[:,1:] = (ABT_Normalization - ABT_Normalization.min())/ (ABT_Normalization.max() - ABT_Normalization.min())"
   ]
  },
  {
   "cell_type": "code",
   "execution_count": 291,
   "metadata": {},
   "outputs": [
    {
     "data": {
      "text/html": [
       "<div>\n",
       "<style scoped>\n",
       "    .dataframe tbody tr th:only-of-type {\n",
       "        vertical-align: middle;\n",
       "    }\n",
       "\n",
       "    .dataframe tbody tr th {\n",
       "        vertical-align: top;\n",
       "    }\n",
       "\n",
       "    .dataframe thead th {\n",
       "        text-align: right;\n",
       "    }\n",
       "</style>\n",
       "<table border=\"1\" class=\"dataframe\">\n",
       "  <thead>\n",
       "    <tr style=\"text-align: right;\">\n",
       "      <th></th>\n",
       "      <th>SessionID</th>\n",
       "      <th>hasBought</th>\n",
       "      <th>item_cnt_in_ses</th>\n",
       "      <th>click_weekday</th>\n",
       "      <th>ave_item_price</th>\n",
       "      <th>click_hour</th>\n",
       "      <th>Category</th>\n",
       "      <th>CategoryCount</th>\n",
       "      <th>repeat_visitor</th>\n",
       "      <th>popular_category_view_count</th>\n",
       "      <th>repeat_item_visitor</th>\n",
       "      <th>times_looked_at_popular_item</th>\n",
       "      <th>Single_session_visit</th>\n",
       "      <th>top_visitor</th>\n",
       "    </tr>\n",
       "  </thead>\n",
       "  <tbody>\n",
       "    <tr>\n",
       "      <th>0</th>\n",
       "      <td>9293568</td>\n",
       "      <td>0.0</td>\n",
       "      <td>0.000000</td>\n",
       "      <td>0.0</td>\n",
       "      <td>0.003137</td>\n",
       "      <td>0.782609</td>\n",
       "      <td>3.062764e-08</td>\n",
       "      <td>0.000000</td>\n",
       "      <td>0.0</td>\n",
       "      <td>0.0</td>\n",
       "      <td>0.0</td>\n",
       "      <td>0.0</td>\n",
       "      <td>1.0</td>\n",
       "      <td>0.0</td>\n",
       "    </tr>\n",
       "    <tr>\n",
       "      <th>1</th>\n",
       "      <td>9293653</td>\n",
       "      <td>0.0</td>\n",
       "      <td>0.020408</td>\n",
       "      <td>0.0</td>\n",
       "      <td>0.027395</td>\n",
       "      <td>0.434783</td>\n",
       "      <td>3.062764e-08</td>\n",
       "      <td>0.021127</td>\n",
       "      <td>0.0</td>\n",
       "      <td>0.0</td>\n",
       "      <td>1.0</td>\n",
       "      <td>0.0</td>\n",
       "      <td>0.0</td>\n",
       "      <td>0.0</td>\n",
       "    </tr>\n",
       "    <tr>\n",
       "      <th>2</th>\n",
       "      <td>9293662</td>\n",
       "      <td>1.0</td>\n",
       "      <td>0.005102</td>\n",
       "      <td>0.0</td>\n",
       "      <td>0.005526</td>\n",
       "      <td>0.260870</td>\n",
       "      <td>3.062764e-08</td>\n",
       "      <td>0.007042</td>\n",
       "      <td>0.0</td>\n",
       "      <td>0.0</td>\n",
       "      <td>1.0</td>\n",
       "      <td>0.0</td>\n",
       "      <td>0.0</td>\n",
       "      <td>0.0</td>\n",
       "    </tr>\n",
       "    <tr>\n",
       "      <th>3</th>\n",
       "      <td>9293704</td>\n",
       "      <td>1.0</td>\n",
       "      <td>0.005102</td>\n",
       "      <td>0.0</td>\n",
       "      <td>0.004518</td>\n",
       "      <td>0.782609</td>\n",
       "      <td>3.062764e-08</td>\n",
       "      <td>0.007042</td>\n",
       "      <td>0.0</td>\n",
       "      <td>0.0</td>\n",
       "      <td>1.0</td>\n",
       "      <td>0.0</td>\n",
       "      <td>0.0</td>\n",
       "      <td>0.0</td>\n",
       "    </tr>\n",
       "    <tr>\n",
       "      <th>5</th>\n",
       "      <td>9293442</td>\n",
       "      <td>1.0</td>\n",
       "      <td>0.010204</td>\n",
       "      <td>0.0</td>\n",
       "      <td>0.003776</td>\n",
       "      <td>0.521739</td>\n",
       "      <td>3.062764e-08</td>\n",
       "      <td>0.014085</td>\n",
       "      <td>0.0</td>\n",
       "      <td>0.0</td>\n",
       "      <td>0.0</td>\n",
       "      <td>0.0</td>\n",
       "      <td>0.0</td>\n",
       "      <td>0.0</td>\n",
       "    </tr>\n",
       "  </tbody>\n",
       "</table>\n",
       "</div>"
      ],
      "text/plain": [
       "   SessionID  hasBought  item_cnt_in_ses  click_weekday  ave_item_price  \\\n",
       "0    9293568        0.0         0.000000            0.0        0.003137   \n",
       "1    9293653        0.0         0.020408            0.0        0.027395   \n",
       "2    9293662        1.0         0.005102            0.0        0.005526   \n",
       "3    9293704        1.0         0.005102            0.0        0.004518   \n",
       "5    9293442        1.0         0.010204            0.0        0.003776   \n",
       "\n",
       "   click_hour      Category  CategoryCount  repeat_visitor  \\\n",
       "0    0.782609  3.062764e-08       0.000000             0.0   \n",
       "1    0.434783  3.062764e-08       0.021127             0.0   \n",
       "2    0.260870  3.062764e-08       0.007042             0.0   \n",
       "3    0.782609  3.062764e-08       0.007042             0.0   \n",
       "5    0.521739  3.062764e-08       0.014085             0.0   \n",
       "\n",
       "   popular_category_view_count  repeat_item_visitor  \\\n",
       "0                          0.0                  0.0   \n",
       "1                          0.0                  1.0   \n",
       "2                          0.0                  1.0   \n",
       "3                          0.0                  1.0   \n",
       "5                          0.0                  0.0   \n",
       "\n",
       "   times_looked_at_popular_item  Single_session_visit  top_visitor  \n",
       "0                           0.0                   1.0          0.0  \n",
       "1                           0.0                   0.0          0.0  \n",
       "2                           0.0                   0.0          0.0  \n",
       "3                           0.0                   0.0          0.0  \n",
       "5                           0.0                   0.0          0.0  "
      ]
     },
     "execution_count": 291,
     "metadata": {},
     "output_type": "execute_result"
    }
   ],
   "source": [
    "normalized_ABT.head()"
   ]
  },
  {
   "cell_type": "markdown",
   "metadata": {},
   "source": [
    "##### Data Split"
   ]
  },
  {
   "cell_type": "code",
   "execution_count": 292,
   "metadata": {},
   "outputs": [],
   "source": [
    "y = normalized_ABT['hasBought']\n",
    "x = normalized_ABT.drop('hasBought',axis=1)"
   ]
  },
  {
   "cell_type": "code",
   "execution_count": 293,
   "metadata": {},
   "outputs": [],
   "source": [
    "x_train, x_test, y_train, y_test = train_test_split(x,y, test_size=0.2)"
   ]
  },
  {
   "cell_type": "markdown",
   "metadata": {},
   "source": [
    "#### Develop two machine learning models to predict buy or not buy event, you can use any machine learning algorithms that we learned from class, or other ones not learning in class\n",
    "\n",
    "Each model training -- 15 points\\\n",
    "Model validation -- 15 points , you can use f1, plot roc curve or roc auc score for evaluation"
   ]
  },
  {
   "cell_type": "markdown",
   "metadata": {},
   "source": [
    "##### Logistic Regression"
   ]
  },
  {
   "cell_type": "code",
   "execution_count": 294,
   "metadata": {},
   "outputs": [],
   "source": [
    "logistic_regression = LogisticRegression()"
   ]
  },
  {
   "cell_type": "code",
   "execution_count": 295,
   "metadata": {},
   "outputs": [
    {
     "data": {
      "text/plain": [
       "LogisticRegression()"
      ]
     },
     "execution_count": 295,
     "metadata": {},
     "output_type": "execute_result"
    }
   ],
   "source": [
    "logistic_regression.fit(x_train,y_train)"
   ]
  },
  {
   "cell_type": "code",
   "execution_count": 296,
   "metadata": {},
   "outputs": [],
   "source": [
    "y_pred = logistic_regression.predict_proba(x_test)"
   ]
  },
  {
   "cell_type": "code",
   "execution_count": 297,
   "metadata": {},
   "outputs": [],
   "source": [
    "y_pred = y_pred[:,1]"
   ]
  },
  {
   "cell_type": "code",
   "execution_count": 298,
   "metadata": {},
   "outputs": [
    {
     "data": {
      "text/plain": [
       "array([0.50140613, 0.50127265, 0.50125979, ..., 0.50122793, 0.50137584,\n",
       "       0.50122812])"
      ]
     },
     "execution_count": 298,
     "metadata": {},
     "output_type": "execute_result"
    }
   ],
   "source": [
    "y_pred"
   ]
  },
  {
   "cell_type": "code",
   "execution_count": 299,
   "metadata": {},
   "outputs": [],
   "source": [
    "fpr, tpr, threshold = metrics.roc_curve(y_test,y_pred)"
   ]
  },
  {
   "cell_type": "code",
   "execution_count": 300,
   "metadata": {},
   "outputs": [],
   "source": [
    "roc_auc = metrics.roc_auc_score(y_test,y_pred)"
   ]
  },
  {
   "cell_type": "code",
   "execution_count": 301,
   "metadata": {},
   "outputs": [
    {
     "data": {
      "image/png": "[encoded data removed]",
      "text/plain": [
       "<Figure size 432x288 with 1 Axes>"
      ]
     },
     "metadata": {
      "needs_background": "light"
     },
     "output_type": "display_data"
    }
   ],
   "source": [
    "plt.plot(fpr,tpr,color='orange', label='ROC: ' + str(roc_auc))\n",
    "plt.plot([0, 1], [0, 1], color='darkblue', linestyle='--')\n",
    "plt.xlabel('False Positive Rate')\n",
    "plt.ylabel('True Positive Rate')\n",
    "plt.title('Receiver Operating Characteristic (ROC) Curve')\n",
    "plt.legend()\n",
    "plt.show()"
   ]
  },
  {
   "cell_type": "markdown",
   "metadata": {},
   "source": [
    "##### Decision Tree"
   ]
  },
  {
   "cell_type": "code",
   "execution_count": 302,
   "metadata": {},
   "outputs": [
    {
     "data": {
      "text/plain": [
       "DecisionTreeClassifier()"
      ]
     },
     "execution_count": 302,
     "metadata": {},
     "output_type": "execute_result"
    }
   ],
   "source": [
    "decision_classifier = DecisionTreeClassifier()\n",
    "decision_classifier.fit(x_train, y_train)"
   ]
  },
  {
   "cell_type": "code",
   "execution_count": 303,
   "metadata": {},
   "outputs": [],
   "source": [
    "dt_y_pred = decision_classifier.predict_proba(x_test)"
   ]
  },
  {
   "cell_type": "code",
   "execution_count": 304,
   "metadata": {},
   "outputs": [],
   "source": [
    "dt_y_pred = dt_y_pred[:,1]"
   ]
  },
  {
   "cell_type": "code",
   "execution_count": 305,
   "metadata": {},
   "outputs": [],
   "source": [
    "dt_fpr, dt_tpr, dt_threshold = metrics.roc_curve(y_test,dt_y_pred)"
   ]
  },
  {
   "cell_type": "code",
   "execution_count": 306,
   "metadata": {},
   "outputs": [],
   "source": [
    "dt_roc_auc = metrics.roc_auc_score(y_test,dt_y_pred)"
   ]
  },
  {
   "cell_type": "code",
   "execution_count": 307,
   "metadata": {},
   "outputs": [
    {
     "data": {
      "image/png": "[encoded data removed]",
      "text/plain": [
       "<Figure size 432x288 with 1 Axes>"
      ]
     },
     "metadata": {
      "needs_background": "light"
     },
     "output_type": "display_data"
    }
   ],
   "source": [
    "plt.plot(dt_fpr,dt_tpr,color='orange', label='ROC: ' + str(dt_roc_auc))\n",
    "plt.plot([0, 1], [0, 1], color='darkblue', linestyle='--')\n",
    "plt.xlabel('False Positive Rate')\n",
    "plt.ylabel('True Positive Rate')\n",
    "plt.title('Receiver Operating Characteristic (ROC) Curve')\n",
    "plt.legend()\n",
    "plt.show()"
   ]
  },
  {
   "cell_type": "markdown",
   "metadata": {},
   "source": [
    "### Explain pros and cons in each of your models; explain your evaluation results from training and test dataset and which model you would recommend.\n",
    "### This is not a coding task but use your writing skills.\n",
    "\n",
    "-- 20 points"
   ]
  },
  {
   "cell_type": "markdown",
   "metadata": {},
   "source": [
    "#### Put your writing in Markdown :"
   ]
  },
  {
   "cell_type": "markdown",
   "metadata": {},
   "source": [
    "### Logistic Regression"
   ]
  },
  {
   "cell_type": "markdown",
   "metadata": {},
   "source": [
    "#### Pros\n",
    "Logistic Regression models are easier to implement, interpret, and train. The model makes no assumptions about distributions of classes in the features. The model can easily adjust to multiple classes. The logistic regression model can be used to measure the appropriateness of a predictor and whether that predictor is positive or negative. It can also be used to interpret the model coefficients for feature importance. It's less inclined for overfitting with high dimension datasets.\n",
    "\n",
    "#### Cons\n",
    "It may be overfit if the number of observations are less than the number of features. There are linear boundaries for the model. Logistic regression also assumes that there is linearity between dependent variables and independent variables. Logistic regression should be used to predict discrete functions. Non linear problems can't be solved with logistic regression, and linear separated data isn't found often in real world scenarios. Other algorithms are also able to outperform this algorithm easily. "
   ]
  },
  {
   "cell_type": "markdown",
   "metadata": {},
   "source": [
    "### Decision Tree"
   ]
  },
  {
   "cell_type": "markdown",
   "metadata": {},
   "source": [
    "#### Pros\n",
    "\n",
    "It's easier to understand and interpret a decision tree since it more closely mimics the human decision making process. It also can work with numerical and categorical features as well. It requires less processing of the data. It's non-parametric. The feature selection is more automatic since unimportant features won't influence the result. Features that depend on each other also don't affect the quality of the model.\n",
    "\n",
    "\n",
    "#### Cons\n",
    "\n",
    "They are unstable, so a small data change can lead to a large change in the structure. They're also relatively inaccurate compared to some other predictors. Decision trees can also lead to overfitting of the data. Decision trees are also less suitable for large datasets since the tree may become too complex. "
   ]
  },
  {
   "cell_type": "markdown",
   "metadata": {},
   "source": [
    "### Recommendation"
   ]
  },
  {
   "cell_type": "markdown",
   "metadata": {},
   "source": [
    "For the logistic regression model I created, there doesn't seem to be much of a benefit in using the model. Based off of the ROC value of 0.521, the predictive ability of the logistic regression model is negligible. It would only predict whether the session would have bought or would not have bought as good as a random guess. Based purely off of the ROC, the decision tree would be a better model to use. The ROC for the decision tree was a .631, so it is better at predicting whether the customer would buy or not buy. Although the decision tree predicted the outcome better than the logistic regression model, decision trees are known for overfitting the data. Although I have split the data into training and test data, the decision tree model may still have overfit to the dataset. This decision tree may not be accurate when given the originally large dataset. The decision tree in this scenario still works better than the logistic regression, there would just need to be further evaluations to see how the model would work with the whole dataset."
   ]
  },
  {
   "cell_type": "code",
   "execution_count": null,
   "metadata": {},
   "outputs": [],
   "source": []
  }
 ],
 "metadata": {
  "kernelspec": {
   "display_name": "Python 3",
   "language": "python",
   "name": "python3"
  },
  "language_info": {
   "codemirror_mode": {
    "name": "ipython",
    "version": 3
   },
   "file_extension": ".py",
   "mimetype": "text/x-python",
   "name": "python",
   "nbconvert_exporter": "python",
   "pygments_lexer": "ipython3",
   "version": "3.8.3"
  }
 },
 "nbformat": 4,
 "nbformat_minor": 4
}
