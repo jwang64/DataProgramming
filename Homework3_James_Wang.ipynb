{
 "cells": [
  {
   "cell_type": "markdown",
   "metadata": {},
   "source": [
    "## Homework Week 3 \n",
    "\n",
    "\n",
    "From Week 3, please submit your homework to iCollege -> assignment -> find your TA's folder -> sub folder of week 3.\n",
    "\n",
    "<p style=\"text-align:left;color:red;font-weight:bold;font-size:14pt;padding-bottom:20px\">Deadline: Sep 19th 2020 11:59PM\n",
    "\n",
    "## Please change this Jupyter Notebook title with your first name and last name before you submit your homework. No initials please! For example, HW3-Jingjing-Cannon \n"
   ]
  },
  {
   "cell_type": "code",
   "execution_count": 3,
   "metadata": {},
   "outputs": [],
   "source": [
    "import numpy as np\n",
    "import pandas as pd\n",
    "import matplotlib.pyplot as plt"
   ]
  },
  {
   "cell_type": "markdown",
   "metadata": {},
   "source": [
    "1. Find the best cureve that fits the data points from the equation below, with the best fit coeffints ([w]) and interception(b). \n",
    "$$\n",
    "\\begin{equation}\n",
    "y = -0.5 + 2.2 \\times x + 0.3 \\times x^3+ 2 \\times N\n",
    "\\end{equation}\n",
    "$$\n",
    "               N = 100 random numbers that follow normal distribution \n",
    "               x = 100 numbers evenly spaced between (-5,5)\n",
    "\n",
    "    Print your coefficeint(s) and intercept.\n",
    "\n",
    "    Plot a smooth predicted line from your fitted model together with the observed data points from the equation above, the line and the points should be in different colors.\n",
    "    \n",
    "    Hint: 2 X N is introducing some tiny noise into the data."
   ]
  },
  {
   "cell_type": "code",
   "execution_count": 38,
   "metadata": {},
   "outputs": [],
   "source": [
    "N = np.random.normal(0,1,100)\n",
    "X = np.random.uniform(-5,5,100)\n",
    "Y = -.5 + (2.2 * X) + (.3 * (X**3)) + (2 * N)"
   ]
  },
  {
   "cell_type": "code",
   "execution_count": 44,
   "metadata": {},
   "outputs": [],
   "source": [
    "evenSpace = range(-5,5)"
   ]
  },
  {
   "cell_type": "code",
   "execution_count": 39,
   "metadata": {},
   "outputs": [],
   "source": [
    "polynomialCoefficients = np.polyfit(X,Y,3)"
   ]
  },
  {
   "cell_type": "code",
   "execution_count": 48,
   "metadata": {},
   "outputs": [
    {
     "data": {
      "text/plain": [
       "array([ 0.30693195,  0.00504994,  2.14448183, -1.08265646])"
      ]
     },
     "execution_count": 48,
     "metadata": {},
     "output_type": "execute_result"
    }
   ],
   "source": [
    "polynomialCoefficients"
   ]
  },
  {
   "cell_type": "code",
   "execution_count": 40,
   "metadata": {},
   "outputs": [],
   "source": [
    "fit = np.poly1d(polynomialCoefficients)"
   ]
  },
  {
   "cell_type": "code",
   "execution_count": 47,
   "metadata": {},
   "outputs": [
    {
     "data": {
      "image/png": "[encoded data removed]",
      "text/plain": [
       "<Figure size 432x288 with 1 Axes>"
      ]
     },
     "metadata": {
      "needs_background": "light"
     },
     "output_type": "display_data"
    }
   ],
   "source": [
    "plt.plot(data['X'],data['Y'],\"o\",label='Data')\n",
    "plt.plot(evenSpace,fit(evenSpace),'--',label='Fit')\n",
    "plt.legend()\n",
    "plt.show()"
   ]
  },
  {
   "cell_type": "markdown",
   "metadata": {},
   "source": [
    "2. Create a $10\\times 4$ dataframe with random numbers that follows normal distribution. You can use any labels for index and column names. Check the first row, print all the column(s) where the values in the first row is greater than 0."
   ]
  },
  {
   "cell_type": "code",
   "execution_count": 50,
   "metadata": {},
   "outputs": [],
   "source": [
    "TenByFour = pd.DataFrame(np.random.normal(10,2,size=(10,4)),columns=['A','B','C','D'])"
   ]
  },
  {
   "cell_type": "code",
   "execution_count": 51,
   "metadata": {},
   "outputs": [
    {
     "data": {
      "text/html": [
       "<div>\n",
       "<style scoped>\n",
       "    .dataframe tbody tr th:only-of-type {\n",
       "        vertical-align: middle;\n",
       "    }\n",
       "\n",
       "    .dataframe tbody tr th {\n",
       "        vertical-align: top;\n",
       "    }\n",
       "\n",
       "    .dataframe thead th {\n",
       "        text-align: right;\n",
       "    }\n",
       "</style>\n",
       "<table border=\"1\" class=\"dataframe\">\n",
       "  <thead>\n",
       "    <tr style=\"text-align: right;\">\n",
       "      <th></th>\n",
       "      <th>A</th>\n",
       "      <th>B</th>\n",
       "      <th>C</th>\n",
       "      <th>D</th>\n",
       "    </tr>\n",
       "  </thead>\n",
       "  <tbody>\n",
       "    <tr>\n",
       "      <th>0</th>\n",
       "      <td>10.950280</td>\n",
       "      <td>11.385577</td>\n",
       "      <td>15.364059</td>\n",
       "      <td>12.153965</td>\n",
       "    </tr>\n",
       "    <tr>\n",
       "      <th>1</th>\n",
       "      <td>11.227157</td>\n",
       "      <td>10.545507</td>\n",
       "      <td>8.414337</td>\n",
       "      <td>11.006798</td>\n",
       "    </tr>\n",
       "    <tr>\n",
       "      <th>2</th>\n",
       "      <td>9.541910</td>\n",
       "      <td>10.252236</td>\n",
       "      <td>12.387192</td>\n",
       "      <td>8.981378</td>\n",
       "    </tr>\n",
       "    <tr>\n",
       "      <th>3</th>\n",
       "      <td>12.786618</td>\n",
       "      <td>10.789467</td>\n",
       "      <td>8.961368</td>\n",
       "      <td>10.771670</td>\n",
       "    </tr>\n",
       "    <tr>\n",
       "      <th>4</th>\n",
       "      <td>13.848894</td>\n",
       "      <td>11.791855</td>\n",
       "      <td>9.046290</td>\n",
       "      <td>9.250018</td>\n",
       "    </tr>\n",
       "    <tr>\n",
       "      <th>5</th>\n",
       "      <td>7.201113</td>\n",
       "      <td>8.503144</td>\n",
       "      <td>11.914914</td>\n",
       "      <td>11.935936</td>\n",
       "    </tr>\n",
       "    <tr>\n",
       "      <th>6</th>\n",
       "      <td>7.578556</td>\n",
       "      <td>9.423916</td>\n",
       "      <td>10.731192</td>\n",
       "      <td>7.109641</td>\n",
       "    </tr>\n",
       "    <tr>\n",
       "      <th>7</th>\n",
       "      <td>12.576024</td>\n",
       "      <td>9.833254</td>\n",
       "      <td>11.736933</td>\n",
       "      <td>10.752108</td>\n",
       "    </tr>\n",
       "    <tr>\n",
       "      <th>8</th>\n",
       "      <td>5.953674</td>\n",
       "      <td>9.403871</td>\n",
       "      <td>12.059551</td>\n",
       "      <td>11.980923</td>\n",
       "    </tr>\n",
       "    <tr>\n",
       "      <th>9</th>\n",
       "      <td>11.954480</td>\n",
       "      <td>8.933377</td>\n",
       "      <td>8.029541</td>\n",
       "      <td>9.458079</td>\n",
       "    </tr>\n",
       "  </tbody>\n",
       "</table>\n",
       "</div>"
      ],
      "text/plain": [
       "           A          B          C          D\n",
       "0  10.950280  11.385577  15.364059  12.153965\n",
       "1  11.227157  10.545507   8.414337  11.006798\n",
       "2   9.541910  10.252236  12.387192   8.981378\n",
       "3  12.786618  10.789467   8.961368  10.771670\n",
       "4  13.848894  11.791855   9.046290   9.250018\n",
       "5   7.201113   8.503144  11.914914  11.935936\n",
       "6   7.578556   9.423916  10.731192   7.109641\n",
       "7  12.576024   9.833254  11.736933  10.752108\n",
       "8   5.953674   9.403871  12.059551  11.980923\n",
       "9  11.954480   8.933377   8.029541   9.458079"
      ]
     },
     "execution_count": 51,
     "metadata": {},
     "output_type": "execute_result"
    }
   ],
   "source": [
    "TenByFour"
   ]
  },
  {
   "cell_type": "markdown",
   "metadata": {},
   "source": [
    "3. Create a dataframe that the index is the first date of each month in 2019, and the coloumn names are five students: Amy, Chris, Larry, Nancy and Zach. The values in the dataframe random integer values between 0 and 100. Show all values of Chris and Nancy for April to July 2019."
   ]
  },
  {
   "cell_type": "code",
   "execution_count": 78,
   "metadata": {},
   "outputs": [],
   "source": [
    "dateRange = pd.date_range('2019-01-01',periods=12, freq='MS')"
   ]
  },
  {
   "cell_type": "code",
   "execution_count": 79,
   "metadata": {},
   "outputs": [],
   "source": [
    "data = {\n",
    "    'DateIndex': dateRange,\n",
    "    'Amy': np.random.randint(100, size = 12),\n",
    "    'Chris': np.random.randint(100, size =12),\n",
    "    'Larry': np.random.randint(100, size =12),\n",
    "    'Nancy': np.random.randint(100, size =12),\n",
    "    'Zach': np.random.randint(100, size =12)\n",
    "}"
   ]
  },
  {
   "cell_type": "code",
   "execution_count": 80,
   "metadata": {},
   "outputs": [],
   "source": [
    "dateDataFrame = pd.DataFrame(data)"
   ]
  },
  {
   "cell_type": "code",
   "execution_count": 81,
   "metadata": {},
   "outputs": [
    {
     "data": {
      "text/html": [
       "<div>\n",
       "<style scoped>\n",
       "    .dataframe tbody tr th:only-of-type {\n",
       "        vertical-align: middle;\n",
       "    }\n",
       "\n",
       "    .dataframe tbody tr th {\n",
       "        vertical-align: top;\n",
       "    }\n",
       "\n",
       "    .dataframe thead th {\n",
       "        text-align: right;\n",
       "    }\n",
       "</style>\n",
       "<table border=\"1\" class=\"dataframe\">\n",
       "  <thead>\n",
       "    <tr style=\"text-align: right;\">\n",
       "      <th></th>\n",
       "      <th>DateIndex</th>\n",
       "      <th>Amy</th>\n",
       "      <th>Chris</th>\n",
       "      <th>Larry</th>\n",
       "      <th>Nancy</th>\n",
       "      <th>Zach</th>\n",
       "    </tr>\n",
       "  </thead>\n",
       "  <tbody>\n",
       "    <tr>\n",
       "      <th>0</th>\n",
       "      <td>2019-01-01</td>\n",
       "      <td>42</td>\n",
       "      <td>99</td>\n",
       "      <td>28</td>\n",
       "      <td>75</td>\n",
       "      <td>2</td>\n",
       "    </tr>\n",
       "    <tr>\n",
       "      <th>1</th>\n",
       "      <td>2019-02-01</td>\n",
       "      <td>58</td>\n",
       "      <td>1</td>\n",
       "      <td>50</td>\n",
       "      <td>61</td>\n",
       "      <td>33</td>\n",
       "    </tr>\n",
       "    <tr>\n",
       "      <th>2</th>\n",
       "      <td>2019-03-01</td>\n",
       "      <td>75</td>\n",
       "      <td>55</td>\n",
       "      <td>39</td>\n",
       "      <td>95</td>\n",
       "      <td>70</td>\n",
       "    </tr>\n",
       "    <tr>\n",
       "      <th>3</th>\n",
       "      <td>2019-04-01</td>\n",
       "      <td>93</td>\n",
       "      <td>20</td>\n",
       "      <td>43</td>\n",
       "      <td>30</td>\n",
       "      <td>66</td>\n",
       "    </tr>\n",
       "    <tr>\n",
       "      <th>4</th>\n",
       "      <td>2019-05-01</td>\n",
       "      <td>5</td>\n",
       "      <td>43</td>\n",
       "      <td>16</td>\n",
       "      <td>11</td>\n",
       "      <td>7</td>\n",
       "    </tr>\n",
       "  </tbody>\n",
       "</table>\n",
       "</div>"
      ],
      "text/plain": [
       "   DateIndex  Amy  Chris  Larry  Nancy  Zach\n",
       "0 2019-01-01   42     99     28     75     2\n",
       "1 2019-02-01   58      1     50     61    33\n",
       "2 2019-03-01   75     55     39     95    70\n",
       "3 2019-04-01   93     20     43     30    66\n",
       "4 2019-05-01    5     43     16     11     7"
      ]
     },
     "execution_count": 81,
     "metadata": {},
     "output_type": "execute_result"
    }
   ],
   "source": [
    "dateDataFrame.head()"
   ]
  },
  {
   "cell_type": "code",
   "execution_count": 82,
   "metadata": {},
   "outputs": [],
   "source": [
    "selected_dates = dateDataFrame[(dateDataFrame['DateIndex'] > '2019-03-31') & (dateDataFrame['DateIndex'] < '2019-08-01')]"
   ]
  },
  {
   "cell_type": "code",
   "execution_count": 83,
   "metadata": {},
   "outputs": [],
   "source": [
    "chris_nancy_selected_dates = selected_dates[['DateIndex','Chris','Nancy']]"
   ]
  },
  {
   "cell_type": "code",
   "execution_count": 84,
   "metadata": {},
   "outputs": [
    {
     "data": {
      "text/html": [
       "<div>\n",
       "<style scoped>\n",
       "    .dataframe tbody tr th:only-of-type {\n",
       "        vertical-align: middle;\n",
       "    }\n",
       "\n",
       "    .dataframe tbody tr th {\n",
       "        vertical-align: top;\n",
       "    }\n",
       "\n",
       "    .dataframe thead th {\n",
       "        text-align: right;\n",
       "    }\n",
       "</style>\n",
       "<table border=\"1\" class=\"dataframe\">\n",
       "  <thead>\n",
       "    <tr style=\"text-align: right;\">\n",
       "      <th></th>\n",
       "      <th>DateIndex</th>\n",
       "      <th>Chris</th>\n",
       "      <th>Nancy</th>\n",
       "    </tr>\n",
       "  </thead>\n",
       "  <tbody>\n",
       "    <tr>\n",
       "      <th>3</th>\n",
       "      <td>2019-04-01</td>\n",
       "      <td>20</td>\n",
       "      <td>30</td>\n",
       "    </tr>\n",
       "    <tr>\n",
       "      <th>4</th>\n",
       "      <td>2019-05-01</td>\n",
       "      <td>43</td>\n",
       "      <td>11</td>\n",
       "    </tr>\n",
       "    <tr>\n",
       "      <th>5</th>\n",
       "      <td>2019-06-01</td>\n",
       "      <td>18</td>\n",
       "      <td>48</td>\n",
       "    </tr>\n",
       "    <tr>\n",
       "      <th>6</th>\n",
       "      <td>2019-07-01</td>\n",
       "      <td>62</td>\n",
       "      <td>61</td>\n",
       "    </tr>\n",
       "  </tbody>\n",
       "</table>\n",
       "</div>"
      ],
      "text/plain": [
       "   DateIndex  Chris  Nancy\n",
       "3 2019-04-01     20     30\n",
       "4 2019-05-01     43     11\n",
       "5 2019-06-01     18     48\n",
       "6 2019-07-01     62     61"
      ]
     },
     "execution_count": 84,
     "metadata": {},
     "output_type": "execute_result"
    }
   ],
   "source": [
    "chris_nancy_selected_dates"
   ]
  },
  {
   "cell_type": "markdown",
   "metadata": {},
   "source": [
    "4. Use the same dataframe from 3,Display all rows of the dataframe where Amy > Zach."
   ]
  },
  {
   "cell_type": "code",
   "execution_count": 87,
   "metadata": {},
   "outputs": [],
   "source": [
    "AmyZachDataFrame = dateDataFrame[['DateIndex','Amy','Zach']]"
   ]
  },
  {
   "cell_type": "code",
   "execution_count": 88,
   "metadata": {},
   "outputs": [],
   "source": [
    "AmyGreaterThanZach = AmyZachDataFrame[AmyZachDataFrame['Amy'] > AmyZachDataFrame['Zach']]"
   ]
  },
  {
   "cell_type": "code",
   "execution_count": 89,
   "metadata": {},
   "outputs": [
    {
     "data": {
      "text/html": [
       "<div>\n",
       "<style scoped>\n",
       "    .dataframe tbody tr th:only-of-type {\n",
       "        vertical-align: middle;\n",
       "    }\n",
       "\n",
       "    .dataframe tbody tr th {\n",
       "        vertical-align: top;\n",
       "    }\n",
       "\n",
       "    .dataframe thead th {\n",
       "        text-align: right;\n",
       "    }\n",
       "</style>\n",
       "<table border=\"1\" class=\"dataframe\">\n",
       "  <thead>\n",
       "    <tr style=\"text-align: right;\">\n",
       "      <th></th>\n",
       "      <th>DateIndex</th>\n",
       "      <th>Amy</th>\n",
       "      <th>Zach</th>\n",
       "    </tr>\n",
       "  </thead>\n",
       "  <tbody>\n",
       "    <tr>\n",
       "      <th>0</th>\n",
       "      <td>2019-01-01</td>\n",
       "      <td>42</td>\n",
       "      <td>2</td>\n",
       "    </tr>\n",
       "    <tr>\n",
       "      <th>1</th>\n",
       "      <td>2019-02-01</td>\n",
       "      <td>58</td>\n",
       "      <td>33</td>\n",
       "    </tr>\n",
       "    <tr>\n",
       "      <th>2</th>\n",
       "      <td>2019-03-01</td>\n",
       "      <td>75</td>\n",
       "      <td>70</td>\n",
       "    </tr>\n",
       "    <tr>\n",
       "      <th>3</th>\n",
       "      <td>2019-04-01</td>\n",
       "      <td>93</td>\n",
       "      <td>66</td>\n",
       "    </tr>\n",
       "    <tr>\n",
       "      <th>5</th>\n",
       "      <td>2019-06-01</td>\n",
       "      <td>32</td>\n",
       "      <td>11</td>\n",
       "    </tr>\n",
       "    <tr>\n",
       "      <th>7</th>\n",
       "      <td>2019-08-01</td>\n",
       "      <td>51</td>\n",
       "      <td>41</td>\n",
       "    </tr>\n",
       "  </tbody>\n",
       "</table>\n",
       "</div>"
      ],
      "text/plain": [
       "   DateIndex  Amy  Zach\n",
       "0 2019-01-01   42     2\n",
       "1 2019-02-01   58    33\n",
       "2 2019-03-01   75    70\n",
       "3 2019-04-01   93    66\n",
       "5 2019-06-01   32    11\n",
       "7 2019-08-01   51    41"
      ]
     },
     "execution_count": 89,
     "metadata": {},
     "output_type": "execute_result"
    }
   ],
   "source": [
    "AmyGreaterThanZach"
   ]
  },
  {
   "cell_type": "markdown",
   "metadata": {},
   "source": [
    "5. Import the attached excel sheet named 'Employees.xls' and make another dataframe to show: under each manager ID, for each job title, what the total leave hours are. If the leave hour is Nan, replace it with a 0. Save the new table into a new excel sheet called 'LeaveHours_by_manger_and_job.xls'. You dont need to show your folder in your submission but only need to show the code for saving the file in the last step.\n",
    "\n",
    "    Hint: each distinct Manager ID should be a column name."
   ]
  },
  {
   "cell_type": "code",
   "execution_count": 100,
   "metadata": {},
   "outputs": [],
   "source": [
    "employeeDataFrame = pd.read_excel('Employees.xls')"
   ]
  },
  {
   "cell_type": "code",
   "execution_count": 110,
   "metadata": {},
   "outputs": [],
   "source": [
    "employeeDataFrame['SickLeaveHours'] = employeeDataFrame['SickLeaveHours'].fillna(0)"
   ]
  },
  {
   "cell_type": "code",
   "execution_count": 111,
   "metadata": {},
   "outputs": [],
   "source": [
    "LeaveHours_by_manager_and_job = employeeDataFrame.groupby(['ManagerID','JobTitle']).agg({'SickLeaveHours':sum})"
   ]
  },
  {
   "cell_type": "code",
   "execution_count": 113,
   "metadata": {},
   "outputs": [],
   "source": [
    "LeaveHours_by_manager_and_job.to_excel('LeaveHours_by_manger_and_job.xls')"
   ]
  },
  {
   "cell_type": "code",
   "execution_count": null,
   "metadata": {},
   "outputs": [],
   "source": []
  }
 ],
 "metadata": {
  "kernelspec": {
   "display_name": "Python 3",
   "language": "python",
   "name": "python3"
  },
  "language_info": {
   "codemirror_mode": {
    "name": "ipython",
    "version": 3
   },
   "file_extension": ".py",
   "mimetype": "text/x-python",
   "name": "python",
   "nbconvert_exporter": "python",
   "pygments_lexer": "ipython3",
   "version": "3.8.3"
  }
 },
 "nbformat": 4,
 "nbformat_minor": 4
}
